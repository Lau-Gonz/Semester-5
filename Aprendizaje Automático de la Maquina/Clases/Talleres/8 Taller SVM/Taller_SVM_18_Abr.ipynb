{
  "cells": [
    {
      "attachments": {},
      "cell_type": "markdown",
      "metadata": {},
      "source": [
        "# Taller SVM\n",
        "\n",
        "***\n",
        "\n",
        "Integrantes:\n",
        "- Diryon Yonith Mora Romero\n",
        "- Laura Valentina Gonzalez Rodriguez\n",
        "\n",
        "***"
      ]
    },
    {
      "cell_type": "markdown",
      "metadata": {
        "id": "JY8MSq-XHiPU"
      },
      "source": [
        "Usaremos máquinas de soporte vectorial para determinar si un paciente tiene o no enfermedad en el corazón. Utilizaremos los datos en [heart disease](https://archive.ics.uci.edu/ml/datasets/Heart+Disease) que se encuentran en el [UCI Machine Learning Repository](https://archive.ics.uci.edu/ml/index.php).\n",
        "\n",
        "Entregar en formato .ipynb o .html en la plataforma\n",
        " a más tardar el día miércoles 26 de abril."
      ]
    },
    {
      "cell_type": "code",
      "execution_count": 29,
      "metadata": {
        "id": "wRZyD6uTGGyb"
      },
      "outputs": [],
      "source": [
        "import pandas as pd \n",
        "import numpy as np \n",
        "import matplotlib.pyplot as plt \n",
        "import matplotlib.colors as colors\n",
        "from sklearn.model_selection import train_test_split \n",
        "from sklearn import preprocessing \n",
        "from sklearn.svm import SVC\n",
        "from sklearn.model_selection import GridSearchCV \n",
        "from sklearn.metrics import confusion_matrix, ConfusionMatrixDisplay, accuracy_score, precision_score, recall_score, f1_score \n",
        "from sklearn.preprocessing import StandardScaler\n",
        "from sklearn.decomposition import PCA"
      ]
    },
    {
      "cell_type": "code",
      "execution_count": 18,
      "metadata": {
        "id": "ZL7icU2CLDZ-"
      },
      "outputs": [],
      "source": [
        "df=pd.read_csv('HeartDisease.csv')"
      ]
    },
    {
      "cell_type": "code",
      "execution_count": 19,
      "metadata": {
        "id": "d27BN0RLLUP2"
      },
      "outputs": [
        {
          "data": {
            "text/html": [
              "<div>\n",
              "<style scoped>\n",
              "    .dataframe tbody tr th:only-of-type {\n",
              "        vertical-align: middle;\n",
              "    }\n",
              "\n",
              "    .dataframe tbody tr th {\n",
              "        vertical-align: top;\n",
              "    }\n",
              "\n",
              "    .dataframe thead th {\n",
              "        text-align: right;\n",
              "    }\n",
              "</style>\n",
              "<table border=\"1\" class=\"dataframe\">\n",
              "  <thead>\n",
              "    <tr style=\"text-align: right;\">\n",
              "      <th></th>\n",
              "      <th>Unnamed: 0</th>\n",
              "      <th>age</th>\n",
              "      <th>sex</th>\n",
              "      <th>cp</th>\n",
              "      <th>restbp</th>\n",
              "      <th>chol</th>\n",
              "      <th>fbs</th>\n",
              "      <th>restecg</th>\n",
              "      <th>thalach</th>\n",
              "      <th>exang</th>\n",
              "      <th>oldpeak</th>\n",
              "      <th>slope</th>\n",
              "      <th>ca</th>\n",
              "      <th>thal</th>\n",
              "      <th>hd</th>\n",
              "    </tr>\n",
              "  </thead>\n",
              "  <tbody>\n",
              "    <tr>\n",
              "      <th>0</th>\n",
              "      <td>0</td>\n",
              "      <td>63.0</td>\n",
              "      <td>1.0</td>\n",
              "      <td>1.0</td>\n",
              "      <td>145.0</td>\n",
              "      <td>233.0</td>\n",
              "      <td>1.0</td>\n",
              "      <td>2.0</td>\n",
              "      <td>150.0</td>\n",
              "      <td>0.0</td>\n",
              "      <td>2.3</td>\n",
              "      <td>3.0</td>\n",
              "      <td>0.0</td>\n",
              "      <td>6.0</td>\n",
              "      <td>0</td>\n",
              "    </tr>\n",
              "    <tr>\n",
              "      <th>1</th>\n",
              "      <td>1</td>\n",
              "      <td>67.0</td>\n",
              "      <td>1.0</td>\n",
              "      <td>4.0</td>\n",
              "      <td>160.0</td>\n",
              "      <td>286.0</td>\n",
              "      <td>0.0</td>\n",
              "      <td>2.0</td>\n",
              "      <td>108.0</td>\n",
              "      <td>1.0</td>\n",
              "      <td>1.5</td>\n",
              "      <td>2.0</td>\n",
              "      <td>3.0</td>\n",
              "      <td>3.0</td>\n",
              "      <td>2</td>\n",
              "    </tr>\n",
              "    <tr>\n",
              "      <th>2</th>\n",
              "      <td>2</td>\n",
              "      <td>67.0</td>\n",
              "      <td>1.0</td>\n",
              "      <td>4.0</td>\n",
              "      <td>120.0</td>\n",
              "      <td>229.0</td>\n",
              "      <td>0.0</td>\n",
              "      <td>2.0</td>\n",
              "      <td>129.0</td>\n",
              "      <td>1.0</td>\n",
              "      <td>2.6</td>\n",
              "      <td>2.0</td>\n",
              "      <td>2.0</td>\n",
              "      <td>7.0</td>\n",
              "      <td>1</td>\n",
              "    </tr>\n",
              "    <tr>\n",
              "      <th>3</th>\n",
              "      <td>3</td>\n",
              "      <td>37.0</td>\n",
              "      <td>1.0</td>\n",
              "      <td>3.0</td>\n",
              "      <td>130.0</td>\n",
              "      <td>250.0</td>\n",
              "      <td>0.0</td>\n",
              "      <td>0.0</td>\n",
              "      <td>187.0</td>\n",
              "      <td>0.0</td>\n",
              "      <td>3.5</td>\n",
              "      <td>3.0</td>\n",
              "      <td>0.0</td>\n",
              "      <td>3.0</td>\n",
              "      <td>0</td>\n",
              "    </tr>\n",
              "    <tr>\n",
              "      <th>4</th>\n",
              "      <td>4</td>\n",
              "      <td>41.0</td>\n",
              "      <td>0.0</td>\n",
              "      <td>2.0</td>\n",
              "      <td>130.0</td>\n",
              "      <td>204.0</td>\n",
              "      <td>0.0</td>\n",
              "      <td>2.0</td>\n",
              "      <td>172.0</td>\n",
              "      <td>0.0</td>\n",
              "      <td>1.4</td>\n",
              "      <td>1.0</td>\n",
              "      <td>0.0</td>\n",
              "      <td>3.0</td>\n",
              "      <td>0</td>\n",
              "    </tr>\n",
              "  </tbody>\n",
              "</table>\n",
              "</div>"
            ],
            "text/plain": [
              "   Unnamed: 0   age  sex   cp  restbp   chol  fbs  restecg  thalach  exang  \\\n",
              "0           0  63.0  1.0  1.0   145.0  233.0  1.0      2.0    150.0    0.0   \n",
              "1           1  67.0  1.0  4.0   160.0  286.0  0.0      2.0    108.0    1.0   \n",
              "2           2  67.0  1.0  4.0   120.0  229.0  0.0      2.0    129.0    1.0   \n",
              "3           3  37.0  1.0  3.0   130.0  250.0  0.0      0.0    187.0    0.0   \n",
              "4           4  41.0  0.0  2.0   130.0  204.0  0.0      2.0    172.0    0.0   \n",
              "\n",
              "   oldpeak  slope   ca thal  hd  \n",
              "0      2.3    3.0  0.0  6.0   0  \n",
              "1      1.5    2.0  3.0  3.0   2  \n",
              "2      2.6    2.0  2.0  7.0   1  \n",
              "3      3.5    3.0  0.0  3.0   0  \n",
              "4      1.4    1.0  0.0  3.0   0  "
            ]
          },
          "execution_count": 19,
          "metadata": {},
          "output_type": "execute_result"
        }
      ],
      "source": [
        "df.head()"
      ]
    },
    {
      "cell_type": "markdown",
      "metadata": {
        "id": "o7LeysfpIqtb"
      },
      "source": [
        "A continuación un resumen de los atributos de este conjunto de datos:"
      ]
    },
    {
      "cell_type": "markdown",
      "metadata": {
        "id": "l__YW_45Ivlt"
      },
      "source": [
        "- **age**,\n",
        "- **sex**,\n",
        "- **cp**, chest pain\n",
        "- **restbp**, resting blood pressure (in mm Hg)\n",
        "- **chol**, serum cholesterol in mg/dl\n",
        "- **fbs**, fasting blood sugar\n",
        "- **restecg**, resting electrocardiographic results\n",
        "- **thalach**,  maximum heart rate achieved\n",
        "- **exang**, exercise induced angina\n",
        "- **oldpeak**, ST depression induced by exercise relative to rest\n",
        "- **slope**, the slope of the peak exercise ST segment.\n",
        "- **ca**, number of major vessels (0-3) colored by fluoroscopy\n",
        "- **thal**, this is short of thalium heart scan.\n",
        "- **hd**, diagnosis of heart disease, the predicted attribute"
      ]
    },
    {
      "cell_type": "markdown",
      "metadata": {
        "id": "whNd6409IC02"
      },
      "source": [
        "Dado que las máquinas de soporte vectorial no aceptan valores faltantes, debemos asegurarnos de que no los haya. En este caso, el porcentaje de datos faltantes consiste en aquellos que tienen una interrogación \"?\" en las columnas 'ca' y 'thal'."
      ]
    },
    {
      "cell_type": "code",
      "execution_count": 20,
      "metadata": {
        "id": "JusSV_zfOVAb"
      },
      "outputs": [],
      "source": [
        "df = df.loc[(df['ca'] != '?') & (df['thal'] != '?')]"
      ]
    },
    {
      "cell_type": "code",
      "execution_count": 21,
      "metadata": {
        "colab": {
          "base_uri": "https://localhost:8080/",
          "height": 424
        },
        "id": "6vuscO2-PfnD",
        "outputId": "d080a816-f05e-4c4d-a060-f7b142b43d09"
      },
      "outputs": [
        {
          "data": {
            "text/html": [
              "<div>\n",
              "<style scoped>\n",
              "    .dataframe tbody tr th:only-of-type {\n",
              "        vertical-align: middle;\n",
              "    }\n",
              "\n",
              "    .dataframe tbody tr th {\n",
              "        vertical-align: top;\n",
              "    }\n",
              "\n",
              "    .dataframe thead th {\n",
              "        text-align: right;\n",
              "    }\n",
              "</style>\n",
              "<table border=\"1\" class=\"dataframe\">\n",
              "  <thead>\n",
              "    <tr style=\"text-align: right;\">\n",
              "      <th></th>\n",
              "      <th>Unnamed: 0</th>\n",
              "      <th>age</th>\n",
              "      <th>sex</th>\n",
              "      <th>cp</th>\n",
              "      <th>restbp</th>\n",
              "      <th>chol</th>\n",
              "      <th>fbs</th>\n",
              "      <th>restecg</th>\n",
              "      <th>thalach</th>\n",
              "      <th>exang</th>\n",
              "      <th>oldpeak</th>\n",
              "      <th>slope</th>\n",
              "      <th>ca</th>\n",
              "      <th>thal</th>\n",
              "      <th>hd</th>\n",
              "    </tr>\n",
              "  </thead>\n",
              "  <tbody>\n",
              "    <tr>\n",
              "      <th>0</th>\n",
              "      <td>0</td>\n",
              "      <td>63.0</td>\n",
              "      <td>1.0</td>\n",
              "      <td>1.0</td>\n",
              "      <td>145.0</td>\n",
              "      <td>233.0</td>\n",
              "      <td>1.0</td>\n",
              "      <td>2.0</td>\n",
              "      <td>150.0</td>\n",
              "      <td>0.0</td>\n",
              "      <td>2.3</td>\n",
              "      <td>3.0</td>\n",
              "      <td>0.0</td>\n",
              "      <td>6.0</td>\n",
              "      <td>0</td>\n",
              "    </tr>\n",
              "    <tr>\n",
              "      <th>1</th>\n",
              "      <td>1</td>\n",
              "      <td>67.0</td>\n",
              "      <td>1.0</td>\n",
              "      <td>4.0</td>\n",
              "      <td>160.0</td>\n",
              "      <td>286.0</td>\n",
              "      <td>0.0</td>\n",
              "      <td>2.0</td>\n",
              "      <td>108.0</td>\n",
              "      <td>1.0</td>\n",
              "      <td>1.5</td>\n",
              "      <td>2.0</td>\n",
              "      <td>3.0</td>\n",
              "      <td>3.0</td>\n",
              "      <td>2</td>\n",
              "    </tr>\n",
              "    <tr>\n",
              "      <th>2</th>\n",
              "      <td>2</td>\n",
              "      <td>67.0</td>\n",
              "      <td>1.0</td>\n",
              "      <td>4.0</td>\n",
              "      <td>120.0</td>\n",
              "      <td>229.0</td>\n",
              "      <td>0.0</td>\n",
              "      <td>2.0</td>\n",
              "      <td>129.0</td>\n",
              "      <td>1.0</td>\n",
              "      <td>2.6</td>\n",
              "      <td>2.0</td>\n",
              "      <td>2.0</td>\n",
              "      <td>7.0</td>\n",
              "      <td>1</td>\n",
              "    </tr>\n",
              "    <tr>\n",
              "      <th>3</th>\n",
              "      <td>3</td>\n",
              "      <td>37.0</td>\n",
              "      <td>1.0</td>\n",
              "      <td>3.0</td>\n",
              "      <td>130.0</td>\n",
              "      <td>250.0</td>\n",
              "      <td>0.0</td>\n",
              "      <td>0.0</td>\n",
              "      <td>187.0</td>\n",
              "      <td>0.0</td>\n",
              "      <td>3.5</td>\n",
              "      <td>3.0</td>\n",
              "      <td>0.0</td>\n",
              "      <td>3.0</td>\n",
              "      <td>0</td>\n",
              "    </tr>\n",
              "    <tr>\n",
              "      <th>4</th>\n",
              "      <td>4</td>\n",
              "      <td>41.0</td>\n",
              "      <td>0.0</td>\n",
              "      <td>2.0</td>\n",
              "      <td>130.0</td>\n",
              "      <td>204.0</td>\n",
              "      <td>0.0</td>\n",
              "      <td>2.0</td>\n",
              "      <td>172.0</td>\n",
              "      <td>0.0</td>\n",
              "      <td>1.4</td>\n",
              "      <td>1.0</td>\n",
              "      <td>0.0</td>\n",
              "      <td>3.0</td>\n",
              "      <td>0</td>\n",
              "    </tr>\n",
              "    <tr>\n",
              "      <th>...</th>\n",
              "      <td>...</td>\n",
              "      <td>...</td>\n",
              "      <td>...</td>\n",
              "      <td>...</td>\n",
              "      <td>...</td>\n",
              "      <td>...</td>\n",
              "      <td>...</td>\n",
              "      <td>...</td>\n",
              "      <td>...</td>\n",
              "      <td>...</td>\n",
              "      <td>...</td>\n",
              "      <td>...</td>\n",
              "      <td>...</td>\n",
              "      <td>...</td>\n",
              "      <td>...</td>\n",
              "    </tr>\n",
              "    <tr>\n",
              "      <th>297</th>\n",
              "      <td>297</td>\n",
              "      <td>57.0</td>\n",
              "      <td>0.0</td>\n",
              "      <td>4.0</td>\n",
              "      <td>140.0</td>\n",
              "      <td>241.0</td>\n",
              "      <td>0.0</td>\n",
              "      <td>0.0</td>\n",
              "      <td>123.0</td>\n",
              "      <td>1.0</td>\n",
              "      <td>0.2</td>\n",
              "      <td>2.0</td>\n",
              "      <td>0.0</td>\n",
              "      <td>7.0</td>\n",
              "      <td>1</td>\n",
              "    </tr>\n",
              "    <tr>\n",
              "      <th>298</th>\n",
              "      <td>298</td>\n",
              "      <td>45.0</td>\n",
              "      <td>1.0</td>\n",
              "      <td>1.0</td>\n",
              "      <td>110.0</td>\n",
              "      <td>264.0</td>\n",
              "      <td>0.0</td>\n",
              "      <td>0.0</td>\n",
              "      <td>132.0</td>\n",
              "      <td>0.0</td>\n",
              "      <td>1.2</td>\n",
              "      <td>2.0</td>\n",
              "      <td>0.0</td>\n",
              "      <td>7.0</td>\n",
              "      <td>1</td>\n",
              "    </tr>\n",
              "    <tr>\n",
              "      <th>299</th>\n",
              "      <td>299</td>\n",
              "      <td>68.0</td>\n",
              "      <td>1.0</td>\n",
              "      <td>4.0</td>\n",
              "      <td>144.0</td>\n",
              "      <td>193.0</td>\n",
              "      <td>1.0</td>\n",
              "      <td>0.0</td>\n",
              "      <td>141.0</td>\n",
              "      <td>0.0</td>\n",
              "      <td>3.4</td>\n",
              "      <td>2.0</td>\n",
              "      <td>2.0</td>\n",
              "      <td>7.0</td>\n",
              "      <td>2</td>\n",
              "    </tr>\n",
              "    <tr>\n",
              "      <th>300</th>\n",
              "      <td>300</td>\n",
              "      <td>57.0</td>\n",
              "      <td>1.0</td>\n",
              "      <td>4.0</td>\n",
              "      <td>130.0</td>\n",
              "      <td>131.0</td>\n",
              "      <td>0.0</td>\n",
              "      <td>0.0</td>\n",
              "      <td>115.0</td>\n",
              "      <td>1.0</td>\n",
              "      <td>1.2</td>\n",
              "      <td>2.0</td>\n",
              "      <td>1.0</td>\n",
              "      <td>7.0</td>\n",
              "      <td>3</td>\n",
              "    </tr>\n",
              "    <tr>\n",
              "      <th>301</th>\n",
              "      <td>301</td>\n",
              "      <td>57.0</td>\n",
              "      <td>0.0</td>\n",
              "      <td>2.0</td>\n",
              "      <td>130.0</td>\n",
              "      <td>236.0</td>\n",
              "      <td>0.0</td>\n",
              "      <td>2.0</td>\n",
              "      <td>174.0</td>\n",
              "      <td>0.0</td>\n",
              "      <td>0.0</td>\n",
              "      <td>2.0</td>\n",
              "      <td>1.0</td>\n",
              "      <td>3.0</td>\n",
              "      <td>1</td>\n",
              "    </tr>\n",
              "  </tbody>\n",
              "</table>\n",
              "<p>297 rows × 15 columns</p>\n",
              "</div>"
            ],
            "text/plain": [
              "     Unnamed: 0   age  sex   cp  restbp   chol  fbs  restecg  thalach  exang  \\\n",
              "0             0  63.0  1.0  1.0   145.0  233.0  1.0      2.0    150.0    0.0   \n",
              "1             1  67.0  1.0  4.0   160.0  286.0  0.0      2.0    108.0    1.0   \n",
              "2             2  67.0  1.0  4.0   120.0  229.0  0.0      2.0    129.0    1.0   \n",
              "3             3  37.0  1.0  3.0   130.0  250.0  0.0      0.0    187.0    0.0   \n",
              "4             4  41.0  0.0  2.0   130.0  204.0  0.0      2.0    172.0    0.0   \n",
              "..          ...   ...  ...  ...     ...    ...  ...      ...      ...    ...   \n",
              "297         297  57.0  0.0  4.0   140.0  241.0  0.0      0.0    123.0    1.0   \n",
              "298         298  45.0  1.0  1.0   110.0  264.0  0.0      0.0    132.0    0.0   \n",
              "299         299  68.0  1.0  4.0   144.0  193.0  1.0      0.0    141.0    0.0   \n",
              "300         300  57.0  1.0  4.0   130.0  131.0  0.0      0.0    115.0    1.0   \n",
              "301         301  57.0  0.0  2.0   130.0  236.0  0.0      2.0    174.0    0.0   \n",
              "\n",
              "     oldpeak  slope   ca thal  hd  \n",
              "0        2.3    3.0  0.0  6.0   0  \n",
              "1        1.5    2.0  3.0  3.0   2  \n",
              "2        2.6    2.0  2.0  7.0   1  \n",
              "3        3.5    3.0  0.0  3.0   0  \n",
              "4        1.4    1.0  0.0  3.0   0  \n",
              "..       ...    ...  ...  ...  ..  \n",
              "297      0.2    2.0  0.0  7.0   1  \n",
              "298      1.2    2.0  0.0  7.0   1  \n",
              "299      3.4    2.0  2.0  7.0   2  \n",
              "300      1.2    2.0  1.0  7.0   3  \n",
              "301      0.0    2.0  1.0  3.0   1  \n",
              "\n",
              "[297 rows x 15 columns]"
            ]
          },
          "execution_count": 21,
          "metadata": {},
          "output_type": "execute_result"
        }
      ],
      "source": [
        "df"
      ]
    },
    {
      "cell_type": "markdown",
      "metadata": {
        "id": "q7GJUPVABCiP"
      },
      "source": [
        "Realizar One hot enconding para las columnas 'cp', 'restecg', 'slope' y 'thal'."
      ]
    },
    {
      "cell_type": "code",
      "execution_count": 22,
      "metadata": {
        "id": "jLTM3-pXBPxy"
      },
      "outputs": [],
      "source": [
        "#TODO One-Hot encoding\n",
        "df = pd.get_dummies(df, columns=['cp', 'restecg', 'slope', 'thal'])"
      ]
    },
    {
      "attachments": {},
      "cell_type": "markdown",
      "metadata": {
        "id": "wm2F3_OgBRXH"
      },
      "source": [
        "Dado que la columna objetivo tiene más de dos categorías y vamos a realizar clasificación binaria, la convertiremos en una variable con dos clases: aquellos con valores mayores que cero los clasificaremos como 1, y los que tengan valor cero los dejamos como están."
      ]
    },
    {
      "cell_type": "code",
      "execution_count": 23,
      "metadata": {
        "id": "I5s7LUIFPh0j"
      },
      "outputs": [],
      "source": [
        "#TODO Modificar la columna objetivo para que tenga dos clases\n",
        "df['hd'] = df['hd'].apply(lambda x: 1 if x > 0 else 0)"
      ]
    },
    {
      "cell_type": "markdown",
      "metadata": {
        "id": "JQYrOl9MB_jC"
      },
      "source": [
        "Para el algoritmo de Máquina de Soporte Vectorial es conveniente que los datos estén estandarizados. Puede hacer uso de StandardScaler de SKlearn.\n",
        "\n",
        "**Ojo:** En esta ocasión realizaremos estandarizaciones independientes para X_train y X_test, debido a que el conjunto de conviene que el conjunto de testeo no contenga ningún tipo de información sobre el train set."
      ]
    },
    {
      "cell_type": "code",
      "execution_count": 24,
      "metadata": {
        "id": "t1-5pz-uAeGn"
      },
      "outputs": [],
      "source": [
        "#TODO Estandarizar de manera independiente el conjunto X_train y el conjunto X_test\n",
        "\n",
        "X = df.drop('hd', axis=1)\n",
        "y = df['hd']\n",
        "X_train, X_test, y_train, y_test = train_test_split(X, y, test_size=0.2, random_state=0)\n",
        "\n",
        "scaler_train = StandardScaler()\n",
        "scaler_test = StandardScaler()\n",
        "\n",
        "X_train_scaled = scaler_train.fit_transform(X_train)\n",
        "X_test_scaled = scaler_train.transform(X_test)"
      ]
    },
    {
      "attachments": {},
      "cell_type": "markdown",
      "metadata": {
        "id": "eGNEbnFeCEM8"
      },
      "source": [
        "Entrenar un clasificador de Máquina de Soporte Vectorial de SKLearn. Ver [documentación](https://scikit-learn.org/stable/modules/svm.html) de ser necesario."
      ]
    },
    {
      "cell_type": "code",
      "execution_count": 25,
      "metadata": {
        "id": "Lc4h9ZfACDDy"
      },
      "outputs": [
        {
          "data": {
            "text/html": [
              "<style>#sk-container-id-2 {color: black;background-color: white;}#sk-container-id-2 pre{padding: 0;}#sk-container-id-2 div.sk-toggleable {background-color: white;}#sk-container-id-2 label.sk-toggleable__label {cursor: pointer;display: block;width: 100%;margin-bottom: 0;padding: 0.3em;box-sizing: border-box;text-align: center;}#sk-container-id-2 label.sk-toggleable__label-arrow:before {content: \"▸\";float: left;margin-right: 0.25em;color: #696969;}#sk-container-id-2 label.sk-toggleable__label-arrow:hover:before {color: black;}#sk-container-id-2 div.sk-estimator:hover label.sk-toggleable__label-arrow:before {color: black;}#sk-container-id-2 div.sk-toggleable__content {max-height: 0;max-width: 0;overflow: hidden;text-align: left;background-color: #f0f8ff;}#sk-container-id-2 div.sk-toggleable__content pre {margin: 0.2em;color: black;border-radius: 0.25em;background-color: #f0f8ff;}#sk-container-id-2 input.sk-toggleable__control:checked~div.sk-toggleable__content {max-height: 200px;max-width: 100%;overflow: auto;}#sk-container-id-2 input.sk-toggleable__control:checked~label.sk-toggleable__label-arrow:before {content: \"▾\";}#sk-container-id-2 div.sk-estimator input.sk-toggleable__control:checked~label.sk-toggleable__label {background-color: #d4ebff;}#sk-container-id-2 div.sk-label input.sk-toggleable__control:checked~label.sk-toggleable__label {background-color: #d4ebff;}#sk-container-id-2 input.sk-hidden--visually {border: 0;clip: rect(1px 1px 1px 1px);clip: rect(1px, 1px, 1px, 1px);height: 1px;margin: -1px;overflow: hidden;padding: 0;position: absolute;width: 1px;}#sk-container-id-2 div.sk-estimator {font-family: monospace;background-color: #f0f8ff;border: 1px dotted black;border-radius: 0.25em;box-sizing: border-box;margin-bottom: 0.5em;}#sk-container-id-2 div.sk-estimator:hover {background-color: #d4ebff;}#sk-container-id-2 div.sk-parallel-item::after {content: \"\";width: 100%;border-bottom: 1px solid gray;flex-grow: 1;}#sk-container-id-2 div.sk-label:hover label.sk-toggleable__label {background-color: #d4ebff;}#sk-container-id-2 div.sk-serial::before {content: \"\";position: absolute;border-left: 1px solid gray;box-sizing: border-box;top: 0;bottom: 0;left: 50%;z-index: 0;}#sk-container-id-2 div.sk-serial {display: flex;flex-direction: column;align-items: center;background-color: white;padding-right: 0.2em;padding-left: 0.2em;position: relative;}#sk-container-id-2 div.sk-item {position: relative;z-index: 1;}#sk-container-id-2 div.sk-parallel {display: flex;align-items: stretch;justify-content: center;background-color: white;position: relative;}#sk-container-id-2 div.sk-item::before, #sk-container-id-2 div.sk-parallel-item::before {content: \"\";position: absolute;border-left: 1px solid gray;box-sizing: border-box;top: 0;bottom: 0;left: 50%;z-index: -1;}#sk-container-id-2 div.sk-parallel-item {display: flex;flex-direction: column;z-index: 1;position: relative;background-color: white;}#sk-container-id-2 div.sk-parallel-item:first-child::after {align-self: flex-end;width: 50%;}#sk-container-id-2 div.sk-parallel-item:last-child::after {align-self: flex-start;width: 50%;}#sk-container-id-2 div.sk-parallel-item:only-child::after {width: 0;}#sk-container-id-2 div.sk-dashed-wrapped {border: 1px dashed gray;margin: 0 0.4em 0.5em 0.4em;box-sizing: border-box;padding-bottom: 0.4em;background-color: white;}#sk-container-id-2 div.sk-label label {font-family: monospace;font-weight: bold;display: inline-block;line-height: 1.2em;}#sk-container-id-2 div.sk-label-container {text-align: center;}#sk-container-id-2 div.sk-container {/* jupyter's `normalize.less` sets `[hidden] { display: none; }` but bootstrap.min.css set `[hidden] { display: none !important; }` so we also need the `!important` here to be able to override the default hidden behavior on the sphinx rendered scikit-learn.org. See: https://github.com/scikit-learn/scikit-learn/issues/21755 */display: inline-block !important;position: relative;}#sk-container-id-2 div.sk-text-repr-fallback {display: none;}</style><div id=\"sk-container-id-2\" class=\"sk-top-container\"><div class=\"sk-text-repr-fallback\"><pre>SVC()</pre><b>In a Jupyter environment, please rerun this cell to show the HTML representation or trust the notebook. <br />On GitHub, the HTML representation is unable to render, please try loading this page with nbviewer.org.</b></div><div class=\"sk-container\" hidden><div class=\"sk-item\"><div class=\"sk-estimator sk-toggleable\"><input class=\"sk-toggleable__control sk-hidden--visually\" id=\"sk-estimator-id-2\" type=\"checkbox\" checked><label for=\"sk-estimator-id-2\" class=\"sk-toggleable__label sk-toggleable__label-arrow\">SVC</label><div class=\"sk-toggleable__content\"><pre>SVC()</pre></div></div></div></div></div>"
            ],
            "text/plain": [
              "SVC()"
            ]
          },
          "execution_count": 25,
          "metadata": {},
          "output_type": "execute_result"
        }
      ],
      "source": [
        "#TODO Entrenar SVM con nuestro conjunto de entrenamiento.\n",
        "clf_svm = SVC()\n",
        "clf_svm.fit(X_train_scaled, y_train)"
      ]
    },
    {
      "cell_type": "markdown",
      "metadata": {
        "id": "R60HWrTsCaYY"
      },
      "source": [
        "La **matriz de confusión** es una pequeña matriz que nos indica la cantidad de datos bien clasificados en cada una de las categorías. Observar el gráfico que se porduce a continuación. La matriz en este caso contrasta, por ejemplo, la cantidad **predichas** por el modelo como pacientes con o sin enfermedad con las cantidades de pacientes **etiquetados** realmente con o sin enfermedad del corazón. (Más adelante discuturemos más sobre la matriz de confusión y otras métricas)."
      ]
    },
    {
      "cell_type": "code",
      "execution_count": 26,
      "metadata": {
        "id": "U0SNBZgpCcgJ"
      },
      "outputs": [
        {
          "data": {
            "text/plain": [
              "<sklearn.metrics._plot.confusion_matrix.ConfusionMatrixDisplay at 0x19dc99238b0>"
            ]
          },
          "execution_count": 26,
          "metadata": {},
          "output_type": "execute_result"
        },
        {
          "data": {
            "image/png": "[encoded data removed]",
            "text/plain": [
              "<Figure size 640x480 with 2 Axes>"
            ]
          },
          "metadata": {},
          "output_type": "display_data"
        }
      ],
      "source": [
        "cm = confusion_matrix(y_test, clf_svm.predict(X_test_scaled))\n",
        "disp = ConfusionMatrixDisplay(confusion_matrix=cm, display_labels=[\"Does not have HD\", \"Has HD\"])\n",
        "disp.plot()"
      ]
    },
    {
      "cell_type": "markdown",
      "metadata": {
        "id": "wk9lGfURLyk9"
      },
      "source": [
        "TO DO: De acuerdo a la matriz anterior, cuál fue el accuracy de éste modelo? ¿Qué porcentaje de pacientes **sin** enfermedad de corazón quedaron bién clasificados? ¿Qué porcentaje de pacientes **con** enfermedad del corazón quedaron bién clasificados? "
      ]
    },
    {
      "cell_type": "code",
      "execution_count": 16,
      "metadata": {},
      "outputs": [
        {
          "name": "stdout",
          "output_type": "stream",
          "text": [
            "Accuracy: 0.7666666666666667\n",
            "Precision: 0.9\n",
            "Recall: 0.6\n",
            "F1 Score: 0.7200000000000001\n"
          ]
        }
      ],
      "source": [
        "y_pred = clf_svm.predict(X_test_scaled)\n",
        "print(\"Accuracy:\", accuracy_score(y_test, y_pred))\n",
        "print(\"Precision:\", precision_score(y_test, y_pred))\n",
        "print(\"Recall:\", recall_score(y_test, y_pred))\n",
        "print(\"F1 Score:\", f1_score(y_test, y_pred))"
      ]
    },
    {
      "attachments": {},
      "cell_type": "markdown",
      "metadata": {},
      "source": [
        "Por lo tanto, el accuracy de este modelo fue de 0.77, lo que indica que el 77% de las predicciones fueron correctas. El 93.3% de los pacientes que no tienen enfermedad de corazón fueron clasificados correctamente (especificidad), mientras que el 60% de los pacientes con enfermedad de corazón fueron clasificados correctamente (sensibilidad)."
      ]
    },
    {
      "cell_type": "markdown",
      "metadata": {
        "id": "NrWEzIacCr1D"
      },
      "source": [
        "Veamos si podemos mejorar estas métricas cambiando los hiperparámetros del modelo. Para esto utilizaremos GridSearch, para encontrar la mejor combinación de hiperparámetros 'C' y 'gamma'. Usaremos Kernel radial (RBF)."
      ]
    },
    {
      "cell_type": "code",
      "execution_count": 27,
      "metadata": {
        "id": "6o86FR0PCq8m"
      },
      "outputs": [
        {
          "name": "stdout",
          "output_type": "stream",
          "text": [
            "{'C': 100, 'gamma': 0.0001, 'kernel': 'rbf'}\n"
          ]
        }
      ],
      "source": [
        "num_features = np.size(X_train_scaled, axis=1)\n",
        "param_grid = [\n",
        "    {'C': [1, 10, 100, 1000], \n",
        "    'gamma': [1/num_features, 1, 0.1, 0.01, 0.001, 0.0001], \n",
        "    'kernel': ['rbf']},\n",
        "]\n",
        "\n",
        "\n",
        "optimal_params = GridSearchCV(\n",
        "        SVC(), \n",
        "        param_grid,\n",
        "        cv=5,\n",
        "        scoring='roc_auc',\n",
        "        verbose=0 \n",
        "    )\n",
        "\n",
        "optimal_params.fit(X_train_scaled, y_train)\n",
        "print(optimal_params.best_params_)"
      ]
    },
    {
      "cell_type": "markdown",
      "metadata": {
        "id": "juLnm4GfN4aW"
      },
      "source": [
        "Observe qué parametros se obtunvieron como óptimos entre los rangos seleccionados. A continuación utilicemos dichos parámetros para ver si mejoran los porcentajes."
      ]
    },
    {
      "cell_type": "code",
      "execution_count": 15,
      "metadata": {
        "id": "gRkC4PFYGRHi"
      },
      "outputs": [
        {
          "name": "stdout",
          "output_type": "stream",
          "text": [
            "Accuracy: 0.8\n",
            "Precision: 0.9090909090909091\n",
            "Recall: 0.6666666666666666\n",
            "F1 Score: 0.7692307692307692\n"
          ]
        },
        {
          "data": {
            "image/png": "[encoded data removed]",
            "text/plain": [
              "<Figure size 640x480 with 2 Axes>"
            ]
          },
          "metadata": {},
          "output_type": "display_data"
        }
      ],
      "source": [
        "#TODO Entrenar un SVM con los parámetros óptimos. GRaficar la matriz de confusión y comparar\n",
        "\n",
        "# Entrenar SVM con parámetros óptimos\n",
        "clf_svm_opt = SVC(kernel='rbf', C=optimal_params.best_params_['C'], gamma=optimal_params.best_params_['gamma'])\n",
        "clf_svm_opt.fit(X_train_scaled, y_train)\n",
        "\n",
        "# Predecir conjunto de testeo\n",
        "y_pred_opt = clf_svm_opt.predict(X_test_scaled)\n",
        "\n",
        "# Graficar matriz de confusión\n",
        "cm_opt = confusion_matrix(y_test, y_pred_opt)\n",
        "disp_opt = ConfusionMatrixDisplay(confusion_matrix=cm_opt, display_labels=[\"Does not have HD\", \"Has HD\"])\n",
        "disp_opt.plot()\n",
        "\n",
        "# Mostrar métricas de evaluación\n",
        "print(\"Accuracy:\", accuracy_score(y_test, y_pred_opt))\n",
        "print(\"Precision:\", precision_score(y_test, y_pred_opt))\n",
        "print(\"Recall:\", recall_score(y_test, y_pred_opt))\n",
        "print(\"F1 Score:\", f1_score(y_test, y_pred_opt))"
      ]
    },
    {
      "attachments": {},
      "cell_type": "markdown",
      "metadata": {},
      "source": [
        "En base a los resultados obtenidos, se puede observar que el modelo con los parámetros óptimos tiene una mejor precisión, recall y F1 score en comparación con el primer modelo sin parámetros. El accuracy también mejoró ligeramente. Esto demuestra la importancia de ajustar los hiperparámetros del modelo para lograr un mejor desempeño.\n",
        "\n",
        "Es importante tener en cuenta que la mejora en las métricas no fue muy significativa, pero sigue siendo importante en casos donde la precisión y el recall son críticos, como en el diagnóstico médico. "
      ]
    },
    {
      "cell_type": "markdown",
      "metadata": {
        "id": "pRw9qMYgHK2C"
      },
      "source": [
        "Queremos visualizar el resultado de entrenad un clasificador de Máquina de soporte vectorial. Sin embargo nuestros datos están en una dimensión que no podemos visualizar. Es por eso que haremos una reducción de la dimensionalidad de nuestros datos mediante un método llamado Principal Component Analysis (en el cual ahondaremos más adelante)."
      ]
    },
    {
      "cell_type": "code",
      "execution_count": 30,
      "metadata": {
        "id": "J5c74VraHJYT"
      },
      "outputs": [],
      "source": [
        "pca = PCA() \n",
        "X_train_pca = pca.fit_transform(X_train_scaled)"
      ]
    },
    {
      "cell_type": "markdown",
      "metadata": {
        "id": "WP2mzngzHMmq"
      },
      "source": [
        "A continuación entrenaremos nuevamente un clasificador de SVM para nuestros datos con dimensión reducida, demanera que podamos visualizar la clasificación. Primero encontramos los parámetros óptimos"
      ]
    },
    {
      "cell_type": "code",
      "execution_count": 31,
      "metadata": {
        "id": "hY2wu5MIHRsc"
      },
      "outputs": [
        {
          "name": "stdout",
          "output_type": "stream",
          "text": [
            "{'C': 1, 'gamma': 0.01, 'kernel': 'rbf'}\n"
          ]
        }
      ],
      "source": [
        "train_pc1_coords = X_train_pca[:, 0] \n",
        "train_pc2_coords = X_train_pca[:, 1]\n",
        "\n",
        "\n",
        "## pc1 contiene las coordenadas del eje x, después de aplicar PCA.\n",
        "## pc2 contiene las coordenadas del eje y, después de aplicar PCA.\n",
        "\n",
        "## Ahora centramos y escalamos los datos.\n",
        "pca_train_scaled = preprocessing.scale(np.column_stack((train_pc1_coords, train_pc2_coords)))\n",
        "\n",
        "## Optimizamos los hiperparámetros con los datos luego de la reducción de dimensión\n",
        "\n",
        "num_features = np.size(pca_train_scaled, axis=1)\n",
        "param_grid = [\n",
        "    {'C': [1, 10, 100, 1000], \n",
        "    'gamma': [1/num_features, 1, 0.1, 0.01, 0.001, 0.0001], \n",
        "    'kernel': ['rbf']},\n",
        "]\n",
        "\n",
        "optimal_params = GridSearchCV(\n",
        "        SVC(), \n",
        "        param_grid,\n",
        "        cv=5,\n",
        "        scoring='roc_auc', \n",
        "        verbose=0 \n",
        "    )\n",
        "\n",
        "optimal_params.fit(pca_train_scaled, y_train)\n",
        "print(optimal_params.best_params_)"
      ]
    },
    {
      "cell_type": "markdown",
      "metadata": {
        "id": "43AbKz7sPi77"
      },
      "source": [
        "Finalmente entrenamos nuestro clasificador con los parámetros óptimos y visualizamos su trabajo."
      ]
    },
    {
      "cell_type": "code",
      "execution_count": 34,
      "metadata": {
        "id": "_0fy4MPFHWgq"
      },
      "outputs": [
        {
          "data": {
            "image/png": "[encoded data removed]",
            "text/plain": [
              "<Figure size 1000x1000 with 1 Axes>"
            ]
          },
          "metadata": {},
          "output_type": "display_data"
        }
      ],
      "source": [
        "clf_svm = SVC(random_state=42, C=optimal_params.best_params_['C'], gamma=optimal_params.best_params_['gamma']) #Completar\n",
        "clf_svm.fit(pca_train_scaled, y_train)\n",
        "\n",
        "X_test_pca = pca.transform(X_test_scaled)\n",
        "test_pc1_coords = X_test_pca[:, 0] \n",
        "test_pc2_coords = X_test_pca[:, 1]\n",
        "\n",
        "x_min = test_pc1_coords.min() - 1\n",
        "x_max = test_pc1_coords.max() + 1\n",
        "\n",
        "y_min = test_pc2_coords.min() - 1\n",
        "y_max = test_pc2_coords.max() + 1\n",
        "\n",
        "xx, yy = np.meshgrid(np.arange(start=x_min, stop=x_max, step=0.1),\n",
        "                    np.arange(start=y_min, stop=y_max, step=0.1))\n",
        "\n",
        "\n",
        "Z = clf_svm.predict(np.column_stack((xx.ravel(), yy.ravel())))\n",
        "\n",
        "Z = Z.reshape(xx.shape)\n",
        "\n",
        "fig, ax = plt.subplots(figsize=(10,10))\n",
        "\n",
        "ax.contourf(xx, yy, Z, alpha=0.1)\n",
        "\n",
        "\n",
        "cmap = colors.ListedColormap(['#e41a1c', '#4daf4a'])\n",
        "\n",
        "\n",
        "scatter = ax.scatter(test_pc1_coords, test_pc2_coords, c=y_test, \n",
        "                cmap=cmap, \n",
        "                s=100, \n",
        "                edgecolors='k',\n",
        "                alpha=0.7)\n",
        "\n",
        "legend = ax.legend(scatter.legend_elements()[0], \n",
        "                    scatter.legend_elements()[1],\n",
        "                    loc=\"upper right\")\n",
        "legend.get_texts()[0].set_text(\"No HD\")\n",
        "legend.get_texts()[1].set_text(\"Yes HD\")\n",
        "\n",
        "\n",
        "ax.set_ylabel('PC2')\n",
        "ax.set_xlabel('PC1')\n",
        "ax.set_title('Decison surface using the PCA transformed/projected features')\n",
        "\n",
        "plt.show()"
      ]
    },
    {
      "cell_type": "code",
      "execution_count": 35,
      "metadata": {
        "colab": {
          "base_uri": "https://localhost:8080/",
          "height": 283
        },
        "id": "wHvCoC9KMQs-",
        "outputId": "dfcd804d-9d45-4280-d432-f8df3858c9eb"
      },
      "outputs": [
        {
          "data": {
            "image/png": "[encoded data removed]",
            "text/plain": [
              "<Figure size 640x480 with 2 Axes>"
            ]
          },
          "metadata": {},
          "output_type": "display_data"
        }
      ],
      "source": [
        "#prueba confusion matrix\n",
        "import matplotlib.pyplot as plt\n",
        "from sklearn.datasets import make_classification\n",
        "from sklearn.metrics import confusion_matrix, ConfusionMatrixDisplay\n",
        "from sklearn.model_selection import train_test_split\n",
        "from sklearn.svm import SVC\n",
        "\n",
        "y_true = [\"cat\", \"ant\", \"cat\", \"cat\", \"ant\", \"bird\"]\n",
        "y_pred = [\"cat\", \"bird\", \"cat\", \"cat\", \"ant\", \"cat\"]\n",
        "#cm=confusion_matrix(y_true, y_pred)\n",
        "cm=confusion_matrix(y_true, y_pred,labels=[\"bird\", \"ant\", \"cat\"])\n",
        "\n",
        "disp = ConfusionMatrixDisplay(confusion_matrix=cm,display_labels=[\"bird\", \"ant\", \"cat\"])\n",
        "disp.plot()\n",
        "\n",
        "plt.show()\n"
      ]
    }
  ],
  "metadata": {
    "colab": {
      "provenance": []
    },
    "kernelspec": {
      "display_name": "Python 3",
      "name": "python3"
    },
    "language_info": {
      "codemirror_mode": {
        "name": "ipython",
        "version": 3
      },
      "file_extension": ".py",
      "mimetype": "text/x-python",
      "name": "python",
      "nbconvert_exporter": "python",
      "pygments_lexer": "ipython3",
      "version": "3.9.13"
    }
  },
  "nbformat": 4,
  "nbformat_minor": 0
}
