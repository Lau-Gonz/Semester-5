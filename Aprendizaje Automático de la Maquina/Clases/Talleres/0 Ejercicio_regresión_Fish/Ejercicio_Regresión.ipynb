{
  "nbformat": 4,
  "nbformat_minor": 0,
  "metadata": {
    "colab": {
      "provenance": []
    },
    "kernelspec": {
      "name": "python3",
      "display_name": "Python 3"
    },
    "language_info": {
      "name": "python"
    }
  },
  "cells": [
    {
      "cell_type": "markdown",
      "source": [
        "# Ejercicio de regresión lineal"
      ],
      "metadata": {
        "id": "5bg6uek9FlQK"
      }
    },
    {
      "cell_type": "markdown",
      "source": [
        "Entrenaremos modelos de regresión lineal para un conjunto de datos sobre peces. Se desearía predecir el peso de un pez, a partir de algunas de sus medidas. Longitud vertical, diagonal, etc. Nuestra variable a predecir será el peso *Weight*.\n",
        "Detalles sobre el conjunto de datos [Aquí](https://www.kaggle.com/datasets/aungpyaeap/fish-market).\n",
        "\n",
        "En primer lugar importamos las librerías necesarias para el ejercicio:"
      ],
      "metadata": {
        "id": "AG_cHbu0zzmL"
      }
    },
    {
      "cell_type": "code",
      "execution_count": null,
      "metadata": {
        "id": "B5H_LTe0KxCq"
      },
      "outputs": [],
      "source": [
        "import pandas as pd\n",
        "import numpy as np\n",
        "import matplotlib.pyplot as plt #para gráficas\n",
        "from sklearn.model_selection import train_test_split #para partir el conjunto de datos en Entrenamiento y Testeo\n",
        "from sklearn.linear_model import LinearRegression #Algoritmo de regresión lineal"
      ]
    },
    {
      "cell_type": "markdown",
      "source": [
        "Primero cargar el archivo Fish.csv enviado al correo electrónico. A continuación leer el conjunto de datos con la función read_csv de la librería Pandas. Y visualizar las primeras 10 líneas de éste."
      ],
      "metadata": {
        "id": "m13eR0jK2liv"
      }
    },
    {
      "cell_type": "code",
      "source": [
        "#TODO Leer el conjunto de datos y darle el nombre df\n",
        "\n",
        "#TODO Mostrar las primeras 10 líneas de\n"
      ],
      "metadata": {
        "id": "-Uyf3IEgL3BQ"
      },
      "execution_count": null,
      "outputs": []
    },
    {
      "cell_type": "markdown",
      "source": [
        "Procedamos a graficar puntos con coordenadas x=Length1, y=Weight para observar si aparentan tener un comportamiento cercano al lineal.\n",
        "\n",
        "Para más detalles sobre diagramas de dispersión ver [AQUÍ](https://www.w3schools.com/python/matplotlib_scatter.asp)."
      ],
      "metadata": {
        "id": "NPsd2fEd3Rei"
      }
    },
    {
      "cell_type": "code",
      "source": [
        "#Graficar diagrama de dispersión para Length1 vs Weight\n",
        "plt.figure(figsize = [8, 6]) #Establecemos el tamaño de la figura\n",
        "plt.scatter(data=df, x='Length1', y='Weight', color= \"green\") #Asignamos la variable x, y y el color para el diagrama de dispersión.\n"
      ],
      "metadata": {
        "id": "a8l7_pmRL-cx"
      },
      "execution_count": null,
      "outputs": []
    },
    {
      "cell_type": "code",
      "source": [],
      "metadata": {
        "id": "PuAmrk3RuMtN"
      },
      "execution_count": null,
      "outputs": []
    },
    {
      "cell_type": "markdown",
      "source": [
        "Usaremos el algoritmo para regresión lineal de SciKit Learn. Éste recibe arreglos de dos dimensiones (tablas). Pero aquí tenemos un vector para cada tributo. Queremos entonces una matriz de tamaño (lo que corresponda) x 1. Ése es el significado que tiene el valor -1 en arreglos de Numpy. "
      ],
      "metadata": {
        "id": "Ur9xkj9r6Jdi"
      }
    },
    {
      "cell_type": "code",
      "source": [
        "X = np.array(df['Length1']).reshape(-1, 1)\n",
        "y = np.array(df['Weight']).reshape(-1, 1)"
      ],
      "metadata": {
        "id": "5Lt0FIELP3os"
      },
      "execution_count": null,
      "outputs": []
    },
    {
      "cell_type": "markdown",
      "source": [
        "Ahora usamos la función train_test_split para partir el conjunto de datos en dos subconjuntos: entrenamiento y testeo. Para ver ejemplos del uso de esta función ver [AQUÍ](https://www.geeksforgeeks.org/how-to-split-the-dataset-with-scikit-learns-train_test_split-function/).\n",
        "\n",
        "Usar sólo los parámetros x,y, test_size (Porcentaje de los datos correspondiente al conjunto de testeo). Se suelen usar proporciones al rededor de Entrenamiento 80% y Testeo 20%. Elegir una proporción similar, por ejemplo *test_size=0.25*."
      ],
      "metadata": {
        "id": "qSyBda_Q7wl6"
      }
    },
    {
      "cell_type": "code",
      "source": [
        "#TODO Partir el conjunto de datos en Entrenamiento y Testeo"
      ],
      "metadata": {
        "id": "NqjP-6yycAdR"
      },
      "execution_count": null,
      "outputs": []
    },
    {
      "cell_type": "markdown",
      "source": [
        "Ahora definamos el modelo de regresión lineal. Nuestro modelo se llamará *regr*. Lo entrenaremos y mediremos su coeficiente de detrminación. Para ver cómo es el código ver [AQUÍ](https://www.geeksforgeeks.org/python-linear-regression-using-sklearn/)"
      ],
      "metadata": {
        "id": "lAVD7H658zQV"
      }
    },
    {
      "cell_type": "code",
      "source": [
        "# Modelo de regresión lineal de SciKit Learn\n",
        "\n",
        "regr = LinearRegression()\n",
        "regr.fit(X_train, y_train)\n",
        "print(\"score = \", regr.score(X_test, y_test))"
      ],
      "metadata": {
        "id": "qRaftP9ncB6A"
      },
      "execution_count": null,
      "outputs": []
    },
    {
      "cell_type": "markdown",
      "source": [
        "La salida anterior es el coeficiente de determinación del modelo arrojado por el algoritmo.\n",
        "\n",
        "A continuación imprimimos la pendiente y el intercepto de la recta arrojada por el modelo."
      ],
      "metadata": {
        "id": "M1YCZ-nI-Yqg"
      }
    },
    {
      "cell_type": "code",
      "source": [
        "print('slope:', regr.coef_) \n",
        "print('intercept:', regr.intercept_)"
      ],
      "metadata": {
        "id": "jfXPca1X-mSw"
      },
      "execution_count": null,
      "outputs": []
    },
    {
      "cell_type": "markdown",
      "source": [
        "Ahora graficaremos el conjunto de testeo y la recta correspondiente al modelo en una misma gráfica."
      ],
      "metadata": {
        "id": "SIKIBMg7_RmS"
      }
    },
    {
      "cell_type": "code",
      "source": [
        "y_pred = regr.predict(X_test)\n",
        "plt.scatter(X_test, y_test, color ='g')\n",
        "plt.plot(X_test, y_pred, color ='k')\n",
        "plt.show()"
      ],
      "metadata": {
        "id": "juhbsrCdcUKI"
      },
      "execution_count": null,
      "outputs": []
    },
    {
      "cell_type": "markdown",
      "source": [
        "# Ejercicio\n",
        "1. Bosquejar en la misma gráfica el diagrama de dispersión de (Lenght1,Weight) en color verde y el diagrama de dispersión para (Width, Weight) en color azul. Para esto sólo se requiere añadir al código dos líneas seguidas del tipo: plt.scatter(data=df, x=___, y=___, color= ___)\n",
        "\n",
        "2. ¿Cuál modelo tendrá una pendiente mayor?"
      ],
      "metadata": {
        "id": "fWQKeU51-W_P"
      }
    },
    {
      "cell_type": "code",
      "source": [],
      "metadata": {
        "id": "umAacxGhDZOK"
      },
      "execution_count": null,
      "outputs": []
    },
    {
      "cell_type": "markdown",
      "source": [
        "3. Entrenar un modelo de regresión lineal para la variable Width.\n",
        "4. ¿Cuál tiene mayor Coeficiente de detrrminación? ¿por qué cree que esto ocurre?"
      ],
      "metadata": {
        "id": "hWhzUrsaDwQf"
      }
    },
    {
      "cell_type": "code",
      "source": [
        "\n",
        "\n",
        " \n"
      ],
      "metadata": {
        "id": "LdTyFcuMfYVs"
      },
      "execution_count": null,
      "outputs": []
    }
  ]
}