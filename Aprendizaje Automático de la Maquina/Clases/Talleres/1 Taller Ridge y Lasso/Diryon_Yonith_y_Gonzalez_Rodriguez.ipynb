{
  "cells": [
    {
      "cell_type": "markdown",
      "metadata": {
        "id": "o5VUaJXwjAX4"
      },
      "source": [
        "# Taller 1: Regresión lineal, Ridge y Lasso.\n",
        "**Nombres:** \n",
        "\n",
        "*   Diryon Yonith Mora Romero.\n",
        "*   Laura Valentina Gonzalez Rodriguez."
      ]
    },
    {
      "cell_type": "markdown",
      "metadata": {
        "id": "ibE1PgK4IGiF"
      },
      "source": [
        "En este taller analizaremos métodos de regresión lineal para el conjunto de datos [Hitters](https://www.kaggle.com/datasets/floser/hitters). Cada registro corresponde a un jugador de baseball. Las variables son registros como cantidad de *home runs* o número de años en las ligas mayores. La variable objetivo es el salario de dicho jugador. \n",
        "Usaremos regresión de Ridge y Lasso y las compararemos. \n",
        "\n",
        "- El taller consiste en realizar todas las tareas señaladas con **TO_DO**. \n",
        "\n",
        "- Se puede realizar de forma individual o en parejas.\n",
        "\n",
        "- Subir el cuaderno en dos formatos : 1. En formato .ipynb  2. En formato .html.\n",
        "- Subirlo al aula a más tardar el miércoles 15 de ferbero.\n",
        "\n"
      ]
    },
    {
      "cell_type": "code",
      "execution_count": 24,
      "metadata": {
        "id": "mnPPGc-kv2gW"
      },
      "outputs": [],
      "source": [
        "#importar paquetes\n",
        "%matplotlib inline\n",
        "\n",
        "import pandas as pd\n",
        "import numpy as np\n",
        "import matplotlib.pyplot as plt\n",
        "from sklearn.preprocessing import scale \n",
        "from sklearn.model_selection import train_test_split\n",
        "from sklearn.linear_model import Ridge, RidgeCV, Lasso, LassoCV\n",
        "from sklearn.metrics import mean_squared_error\n",
        "from sklearn.linear_model import LinearRegression \n",
        "import random"
      ]
    },
    {
      "cell_type": "code",
      "execution_count": 25,
      "metadata": {
        "id": "XnKq_XsE24O0"
      },
      "outputs": [],
      "source": [
        "#Evitar la impresión de warnings\n",
        "import warnings\n",
        "warnings.filterwarnings(\"ignore\")"
      ]
    },
    {
      "cell_type": "markdown",
      "metadata": {
        "id": "4MnY7M1vkav9"
      },
      "source": [
        "En primer lugar, leemos el conjunto de datos e imprimimos la información sobre sus columnas."
      ]
    },
    {
      "cell_type": "code",
      "execution_count": 26,
      "metadata": {
        "id": "hn49Fea4sqPM",
        "colab": {
          "base_uri": "https://localhost:8080/"
        },
        "outputId": "5870f9cd-f371-4927-8bb5-58ed1f243e2e"
      },
      "outputs": [
        {
          "output_type": "stream",
          "name": "stdout",
          "text": [
            "<class 'pandas.core.frame.DataFrame'>\n",
            "Int64Index: 263 entries, 1 to 321\n",
            "Data columns (total 20 columns):\n",
            " #   Column     Non-Null Count  Dtype  \n",
            "---  ------     --------------  -----  \n",
            " 0   AtBat      263 non-null    int64  \n",
            " 1   Hits       263 non-null    int64  \n",
            " 2   HmRun      263 non-null    int64  \n",
            " 3   Runs       263 non-null    int64  \n",
            " 4   RBI        263 non-null    int64  \n",
            " 5   Walks      263 non-null    int64  \n",
            " 6   Years      263 non-null    int64  \n",
            " 7   CAtBat     263 non-null    int64  \n",
            " 8   CHits      263 non-null    int64  \n",
            " 9   CHmRun     263 non-null    int64  \n",
            " 10  CRuns      263 non-null    int64  \n",
            " 11  CRBI       263 non-null    int64  \n",
            " 12  CWalks     263 non-null    int64  \n",
            " 13  League     263 non-null    object \n",
            " 14  Division   263 non-null    object \n",
            " 15  PutOuts    263 non-null    int64  \n",
            " 16  Assists    263 non-null    int64  \n",
            " 17  Errors     263 non-null    int64  \n",
            " 18  Salary     263 non-null    float64\n",
            " 19  NewLeague  263 non-null    object \n",
            "dtypes: float64(1), int64(16), object(3)\n",
            "memory usage: 43.1+ KB\n"
          ]
        }
      ],
      "source": [
        "df = pd.read_csv('Hitters.csv').dropna()\n",
        "df.info()"
      ]
    },
    {
      "cell_type": "code",
      "execution_count": 27,
      "metadata": {
        "id": "DFZ_n8uHnTNN"
      },
      "outputs": [],
      "source": [
        "#TO_DO 1: Codificar las 3 variables categóricas como variables Dummy (usar por ejemplo el\n",
        "#método get_dummies de Pandas). \n",
        "\n",
        "df = pd.get_dummies(df, columns=[\"League\",\"Division\",\"NewLeague\"])"
      ]
    },
    {
      "cell_type": "code",
      "execution_count": 28,
      "metadata": {
        "id": "3Lt_zZfLs78W",
        "colab": {
          "base_uri": "https://localhost:8080/",
          "height": 299
        },
        "outputId": "c27267b6-8bc2-4d5f-a5ab-9d30289b0526"
      },
      "outputs": [
        {
          "output_type": "execute_result",
          "data": {
            "text/plain": [
              "   AtBat  Hits  HmRun  Runs  RBI  Walks  Years  CAtBat  CHits  CHmRun  ...  \\\n",
              "1    315    81      7    24   38     39     14    3449    835      69  ...   \n",
              "2    479   130     18    66   72     76      3    1624    457      63  ...   \n",
              "3    496   141     20    65   78     37     11    5628   1575     225  ...   \n",
              "4    321    87     10    39   42     30      2     396    101      12  ...   \n",
              "5    594   169      4    74   51     35     11    4408   1133      19  ...   \n",
              "\n",
              "   PutOuts  Assists  Errors  Salary  League_A  League_N  Division_E  \\\n",
              "1      632       43      10   475.0         0         1           0   \n",
              "2      880       82      14   480.0         1         0           0   \n",
              "3      200       11       3   500.0         0         1           1   \n",
              "4      805       40       4    91.5         0         1           1   \n",
              "5      282      421      25   750.0         1         0           0   \n",
              "\n",
              "   Division_W  NewLeague_A  NewLeague_N  \n",
              "1           1            0            1  \n",
              "2           1            1            0  \n",
              "3           0            0            1  \n",
              "4           0            0            1  \n",
              "5           1            1            0  \n",
              "\n",
              "[5 rows x 23 columns]"
            ],
            "text/html": [
              "\n",
              "  <div id=\"df-9612c1bc-7274-4b12-bd4f-fecd73952c00\">\n",
              "    <div class=\"colab-df-container\">\n",
              "      <div>\n",
              "<style scoped>\n",
              "    .dataframe tbody tr th:only-of-type {\n",
              "        vertical-align: middle;\n",
              "    }\n",
              "\n",
              "    .dataframe tbody tr th {\n",
              "        vertical-align: top;\n",
              "    }\n",
              "\n",
              "    .dataframe thead th {\n",
              "        text-align: right;\n",
              "    }\n",
              "</style>\n",
              "<table border=\"1\" class=\"dataframe\">\n",
              "  <thead>\n",
              "    <tr style=\"text-align: right;\">\n",
              "      <th></th>\n",
              "      <th>AtBat</th>\n",
              "      <th>Hits</th>\n",
              "      <th>HmRun</th>\n",
              "      <th>Runs</th>\n",
              "      <th>RBI</th>\n",
              "      <th>Walks</th>\n",
              "      <th>Years</th>\n",
              "      <th>CAtBat</th>\n",
              "      <th>CHits</th>\n",
              "      <th>CHmRun</th>\n",
              "      <th>...</th>\n",
              "      <th>PutOuts</th>\n",
              "      <th>Assists</th>\n",
              "      <th>Errors</th>\n",
              "      <th>Salary</th>\n",
              "      <th>League_A</th>\n",
              "      <th>League_N</th>\n",
              "      <th>Division_E</th>\n",
              "      <th>Division_W</th>\n",
              "      <th>NewLeague_A</th>\n",
              "      <th>NewLeague_N</th>\n",
              "    </tr>\n",
              "  </thead>\n",
              "  <tbody>\n",
              "    <tr>\n",
              "      <th>1</th>\n",
              "      <td>315</td>\n",
              "      <td>81</td>\n",
              "      <td>7</td>\n",
              "      <td>24</td>\n",
              "      <td>38</td>\n",
              "      <td>39</td>\n",
              "      <td>14</td>\n",
              "      <td>3449</td>\n",
              "      <td>835</td>\n",
              "      <td>69</td>\n",
              "      <td>...</td>\n",
              "      <td>632</td>\n",
              "      <td>43</td>\n",
              "      <td>10</td>\n",
              "      <td>475.0</td>\n",
              "      <td>0</td>\n",
              "      <td>1</td>\n",
              "      <td>0</td>\n",
              "      <td>1</td>\n",
              "      <td>0</td>\n",
              "      <td>1</td>\n",
              "    </tr>\n",
              "    <tr>\n",
              "      <th>2</th>\n",
              "      <td>479</td>\n",
              "      <td>130</td>\n",
              "      <td>18</td>\n",
              "      <td>66</td>\n",
              "      <td>72</td>\n",
              "      <td>76</td>\n",
              "      <td>3</td>\n",
              "      <td>1624</td>\n",
              "      <td>457</td>\n",
              "      <td>63</td>\n",
              "      <td>...</td>\n",
              "      <td>880</td>\n",
              "      <td>82</td>\n",
              "      <td>14</td>\n",
              "      <td>480.0</td>\n",
              "      <td>1</td>\n",
              "      <td>0</td>\n",
              "      <td>0</td>\n",
              "      <td>1</td>\n",
              "      <td>1</td>\n",
              "      <td>0</td>\n",
              "    </tr>\n",
              "    <tr>\n",
              "      <th>3</th>\n",
              "      <td>496</td>\n",
              "      <td>141</td>\n",
              "      <td>20</td>\n",
              "      <td>65</td>\n",
              "      <td>78</td>\n",
              "      <td>37</td>\n",
              "      <td>11</td>\n",
              "      <td>5628</td>\n",
              "      <td>1575</td>\n",
              "      <td>225</td>\n",
              "      <td>...</td>\n",
              "      <td>200</td>\n",
              "      <td>11</td>\n",
              "      <td>3</td>\n",
              "      <td>500.0</td>\n",
              "      <td>0</td>\n",
              "      <td>1</td>\n",
              "      <td>1</td>\n",
              "      <td>0</td>\n",
              "      <td>0</td>\n",
              "      <td>1</td>\n",
              "    </tr>\n",
              "    <tr>\n",
              "      <th>4</th>\n",
              "      <td>321</td>\n",
              "      <td>87</td>\n",
              "      <td>10</td>\n",
              "      <td>39</td>\n",
              "      <td>42</td>\n",
              "      <td>30</td>\n",
              "      <td>2</td>\n",
              "      <td>396</td>\n",
              "      <td>101</td>\n",
              "      <td>12</td>\n",
              "      <td>...</td>\n",
              "      <td>805</td>\n",
              "      <td>40</td>\n",
              "      <td>4</td>\n",
              "      <td>91.5</td>\n",
              "      <td>0</td>\n",
              "      <td>1</td>\n",
              "      <td>1</td>\n",
              "      <td>0</td>\n",
              "      <td>0</td>\n",
              "      <td>1</td>\n",
              "    </tr>\n",
              "    <tr>\n",
              "      <th>5</th>\n",
              "      <td>594</td>\n",
              "      <td>169</td>\n",
              "      <td>4</td>\n",
              "      <td>74</td>\n",
              "      <td>51</td>\n",
              "      <td>35</td>\n",
              "      <td>11</td>\n",
              "      <td>4408</td>\n",
              "      <td>1133</td>\n",
              "      <td>19</td>\n",
              "      <td>...</td>\n",
              "      <td>282</td>\n",
              "      <td>421</td>\n",
              "      <td>25</td>\n",
              "      <td>750.0</td>\n",
              "      <td>1</td>\n",
              "      <td>0</td>\n",
              "      <td>0</td>\n",
              "      <td>1</td>\n",
              "      <td>1</td>\n",
              "      <td>0</td>\n",
              "    </tr>\n",
              "  </tbody>\n",
              "</table>\n",
              "<p>5 rows × 23 columns</p>\n",
              "</div>\n",
              "      <button class=\"colab-df-convert\" onclick=\"convertToInteractive('df-9612c1bc-7274-4b12-bd4f-fecd73952c00')\"\n",
              "              title=\"Convert this dataframe to an interactive table.\"\n",
              "              style=\"display:none;\">\n",
              "        \n",
              "  <svg xmlns=\"http://www.w3.org/2000/svg\" height=\"24px\"viewBox=\"0 0 24 24\"\n",
              "       width=\"24px\">\n",
              "    <path d=\"M0 0h24v24H0V0z\" fill=\"none\"/>\n",
              "    <path d=\"M18.56 5.44l.94 2.06.94-2.06 2.06-.94-2.06-.94-.94-2.06-.94 2.06-2.06.94zm-11 1L8.5 8.5l.94-2.06 2.06-.94-2.06-.94L8.5 2.5l-.94 2.06-2.06.94zm10 10l.94 2.06.94-2.06 2.06-.94-2.06-.94-.94-2.06-.94 2.06-2.06.94z\"/><path d=\"M17.41 7.96l-1.37-1.37c-.4-.4-.92-.59-1.43-.59-.52 0-1.04.2-1.43.59L10.3 9.45l-7.72 7.72c-.78.78-.78 2.05 0 2.83L4 21.41c.39.39.9.59 1.41.59.51 0 1.02-.2 1.41-.59l7.78-7.78 2.81-2.81c.8-.78.8-2.07 0-2.86zM5.41 20L4 18.59l7.72-7.72 1.47 1.35L5.41 20z\"/>\n",
              "  </svg>\n",
              "      </button>\n",
              "      \n",
              "  <style>\n",
              "    .colab-df-container {\n",
              "      display:flex;\n",
              "      flex-wrap:wrap;\n",
              "      gap: 12px;\n",
              "    }\n",
              "\n",
              "    .colab-df-convert {\n",
              "      background-color: #E8F0FE;\n",
              "      border: none;\n",
              "      border-radius: 50%;\n",
              "      cursor: pointer;\n",
              "      display: none;\n",
              "      fill: #1967D2;\n",
              "      height: 32px;\n",
              "      padding: 0 0 0 0;\n",
              "      width: 32px;\n",
              "    }\n",
              "\n",
              "    .colab-df-convert:hover {\n",
              "      background-color: #E2EBFA;\n",
              "      box-shadow: 0px 1px 2px rgba(60, 64, 67, 0.3), 0px 1px 3px 1px rgba(60, 64, 67, 0.15);\n",
              "      fill: #174EA6;\n",
              "    }\n",
              "\n",
              "    [theme=dark] .colab-df-convert {\n",
              "      background-color: #3B4455;\n",
              "      fill: #D2E3FC;\n",
              "    }\n",
              "\n",
              "    [theme=dark] .colab-df-convert:hover {\n",
              "      background-color: #434B5C;\n",
              "      box-shadow: 0px 1px 3px 1px rgba(0, 0, 0, 0.15);\n",
              "      filter: drop-shadow(0px 1px 2px rgba(0, 0, 0, 0.3));\n",
              "      fill: #FFFFFF;\n",
              "    }\n",
              "  </style>\n",
              "\n",
              "      <script>\n",
              "        const buttonEl =\n",
              "          document.querySelector('#df-9612c1bc-7274-4b12-bd4f-fecd73952c00 button.colab-df-convert');\n",
              "        buttonEl.style.display =\n",
              "          google.colab.kernel.accessAllowed ? 'block' : 'none';\n",
              "\n",
              "        async function convertToInteractive(key) {\n",
              "          const element = document.querySelector('#df-9612c1bc-7274-4b12-bd4f-fecd73952c00');\n",
              "          const dataTable =\n",
              "            await google.colab.kernel.invokeFunction('convertToInteractive',\n",
              "                                                     [key], {});\n",
              "          if (!dataTable) return;\n",
              "\n",
              "          const docLinkHtml = 'Like what you see? Visit the ' +\n",
              "            '<a target=\"_blank\" href=https://colab.research.google.com/notebooks/data_table.ipynb>data table notebook</a>'\n",
              "            + ' to learn more about interactive tables.';\n",
              "          element.innerHTML = '';\n",
              "          dataTable['output_type'] = 'display_data';\n",
              "          await google.colab.output.renderOutput(dataTable, element);\n",
              "          const docLink = document.createElement('div');\n",
              "          docLink.innerHTML = docLinkHtml;\n",
              "          element.appendChild(docLink);\n",
              "        }\n",
              "      </script>\n",
              "    </div>\n",
              "  </div>\n",
              "  "
            ]
          },
          "metadata": {},
          "execution_count": 28
        }
      ],
      "source": [
        "#Verificar la codificación anterior\n",
        "df.head()"
      ]
    },
    {
      "cell_type": "code",
      "execution_count": 29,
      "metadata": {
        "id": "uAwIeNpdtID_",
        "colab": {
          "base_uri": "https://localhost:8080/"
        },
        "outputId": "864dc61a-bb8f-4443-fee4-a2256cf54fec"
      },
      "outputs": [
        {
          "output_type": "stream",
          "name": "stdout",
          "text": [
            "<class 'pandas.core.frame.DataFrame'>\n",
            "Int64Index: 263 entries, 1 to 321\n",
            "Data columns (total 16 columns):\n",
            " #   Column   Non-Null Count  Dtype\n",
            "---  ------   --------------  -----\n",
            " 0   AtBat    263 non-null    int64\n",
            " 1   Hits     263 non-null    int64\n",
            " 2   HmRun    263 non-null    int64\n",
            " 3   Runs     263 non-null    int64\n",
            " 4   RBI      263 non-null    int64\n",
            " 5   Walks    263 non-null    int64\n",
            " 6   Years    263 non-null    int64\n",
            " 7   CAtBat   263 non-null    int64\n",
            " 8   CHits    263 non-null    int64\n",
            " 9   CHmRun   263 non-null    int64\n",
            " 10  CRuns    263 non-null    int64\n",
            " 11  CRBI     263 non-null    int64\n",
            " 12  CWalks   263 non-null    int64\n",
            " 13  PutOuts  263 non-null    int64\n",
            " 14  Assists  263 non-null    int64\n",
            " 15  Errors   263 non-null    int64\n",
            "dtypes: int64(16)\n",
            "memory usage: 34.9 KB\n"
          ]
        }
      ],
      "source": [
        "# Definimos la columna y, correspondiente a la variable objetivo.\n",
        "y = df.Salary\n",
        "\n",
        "#TO_DO 2:\n",
        "#Eliminar la columna con la variable dependiente (Salary) y de ser necesario, las columnas originales para las que se crearon\n",
        "#variables dummy. Dar a la nueva tabla de atributos el nombre X (mayúscula).\n",
        "\n",
        "X = df.drop(columns=[\"Salary\"] + list(df.filter(regex=\"Division|League|New_League\")))\n",
        "#X = df.drop(columns=[\"Salary\"])\n",
        "\n",
        "#Verificar lo anterior\n",
        "X.info()"
      ]
    },
    {
      "cell_type": "markdown",
      "metadata": {
        "id": "9cdjFZR9lWGS"
      },
      "source": [
        "Vamos a generar valores de Lambda equidistantes para experimentar sobre un intervalo. Estos valores se encuentran entre 10^(-2) y 10^10. Experimentaremos con 100 valores distintos de lambda. Para esto usamos *linspace* de Numpy:"
      ]
    },
    {
      "cell_type": "code",
      "execution_count": 30,
      "metadata": {
        "id": "k7REJ95dtiuL",
        "colab": {
          "base_uri": "https://localhost:8080/"
        },
        "outputId": "f1f06645-472c-46d1-8728-e545bd28671d"
      },
      "outputs": [
        {
          "output_type": "execute_result",
          "data": {
            "text/plain": [
              "array([1.00000000e+10, 7.56463328e+09, 5.72236766e+09, 4.32876128e+09,\n",
              "       3.27454916e+09, 2.47707636e+09, 1.87381742e+09, 1.41747416e+09,\n",
              "       1.07226722e+09, 8.11130831e+08, 6.13590727e+08, 4.64158883e+08,\n",
              "       3.51119173e+08, 2.65608778e+08, 2.00923300e+08, 1.51991108e+08,\n",
              "       1.14975700e+08, 8.69749003e+07, 6.57933225e+07, 4.97702356e+07,\n",
              "       3.76493581e+07, 2.84803587e+07, 2.15443469e+07, 1.62975083e+07,\n",
              "       1.23284674e+07, 9.32603347e+06, 7.05480231e+06, 5.33669923e+06,\n",
              "       4.03701726e+06, 3.05385551e+06, 2.31012970e+06, 1.74752840e+06,\n",
              "       1.32194115e+06, 1.00000000e+06, 7.56463328e+05, 5.72236766e+05,\n",
              "       4.32876128e+05, 3.27454916e+05, 2.47707636e+05, 1.87381742e+05,\n",
              "       1.41747416e+05, 1.07226722e+05, 8.11130831e+04, 6.13590727e+04,\n",
              "       4.64158883e+04, 3.51119173e+04, 2.65608778e+04, 2.00923300e+04,\n",
              "       1.51991108e+04, 1.14975700e+04, 8.69749003e+03, 6.57933225e+03,\n",
              "       4.97702356e+03, 3.76493581e+03, 2.84803587e+03, 2.15443469e+03,\n",
              "       1.62975083e+03, 1.23284674e+03, 9.32603347e+02, 7.05480231e+02,\n",
              "       5.33669923e+02, 4.03701726e+02, 3.05385551e+02, 2.31012970e+02,\n",
              "       1.74752840e+02, 1.32194115e+02, 1.00000000e+02, 7.56463328e+01,\n",
              "       5.72236766e+01, 4.32876128e+01, 3.27454916e+01, 2.47707636e+01,\n",
              "       1.87381742e+01, 1.41747416e+01, 1.07226722e+01, 8.11130831e+00,\n",
              "       6.13590727e+00, 4.64158883e+00, 3.51119173e+00, 2.65608778e+00,\n",
              "       2.00923300e+00, 1.51991108e+00, 1.14975700e+00, 8.69749003e-01,\n",
              "       6.57933225e-01, 4.97702356e-01, 3.76493581e-01, 2.84803587e-01,\n",
              "       2.15443469e-01, 1.62975083e-01, 1.23284674e-01, 9.32603347e-02,\n",
              "       7.05480231e-02, 5.33669923e-02, 4.03701726e-02, 3.05385551e-02,\n",
              "       2.31012970e-02, 1.74752840e-02, 1.32194115e-02, 1.00000000e-02])"
            ]
          },
          "metadata": {},
          "execution_count": 30
        }
      ],
      "source": [
        "# Creamos una lista con posibles valores para el parámetro Lambda para los algoritmos Ridge y Lasso\n",
        "lambdas = 10**np.linspace(10,-2,100)\n",
        "lambdas"
      ]
    },
    {
      "cell_type": "markdown",
      "metadata": {
        "id": "MMkdjJinqgam"
      },
      "source": [
        "Vamos a usar el algoritmo de Ridge de SKlearn para hacer regresión con los diferentes valores del parámetro Lambda, de manera que podamos realizar algunas observaciones y comparaciones."
      ]
    },
    {
      "cell_type": "code",
      "execution_count": 31,
      "metadata": {
        "id": "p9N3z07Wtvmf",
        "colab": {
          "base_uri": "https://localhost:8080/"
        },
        "outputId": "0382ea96-fdf9-4081-9c61-e5f60b13f083"
      },
      "outputs": [
        {
          "output_type": "execute_result",
          "data": {
            "text/plain": [
              "(100, 16)"
            ]
          },
          "metadata": {},
          "execution_count": 31
        }
      ],
      "source": [
        "# Aplicamos el algoritmo Ridge de SKlearn para los diferentes valores de Lambda definidos\n",
        "# en la celda anterior. Guardar los vectores obtenidos de parámetros en la lista coefs.\n",
        "ridge = Ridge(normalize = True)\n",
        "coefs = []\n",
        "\n",
        "for a in lambdas:\n",
        "    ridge.set_params(alpha = a)\n",
        "    ridge.fit(X, y)\n",
        "    coefs.append(ridge.coef_)\n",
        "#Imprimir las dimensiones de la matriz coef.   \n",
        "np.shape(coefs)\n",
        "#coefs"
      ]
    },
    {
      "cell_type": "markdown",
      "metadata": {
        "id": "A1t0wbe1q12G"
      },
      "source": [
        "Usamos los arreglos *lambdas* y *coefs* para comparar los resultados de la regresión Ridge para diferentes valores del parámetro Lambda."
      ]
    },
    {
      "cell_type": "code",
      "execution_count": 32,
      "metadata": {
        "id": "HsHxVKALuQgA",
        "scrolled": true,
        "colab": {
          "base_uri": "https://localhost:8080/",
          "height": 300
        },
        "outputId": "05b8dd84-6781-48fb-b0dc-b08c7cec06ac"
      },
      "outputs": [
        {
          "output_type": "execute_result",
          "data": {
            "text/plain": [
              "Text(0, 0.5, 'weights')"
            ]
          },
          "metadata": {},
          "execution_count": 32
        },
        {
          "output_type": "display_data",
          "data": {
            "text/plain": [
              "<Figure size 432x288 with 1 Axes>"
            ],
            "image/png": "[encoded data removed]"
          },
          "metadata": {
            "needs_background": "light"
          }
        }
      ],
      "source": [
        "ax = plt.gca()\n",
        "ax.plot(lambdas, coefs)\n",
        "ax.set_xscale('log')\n",
        "plt.axis('tight')\n",
        "plt.xlabel('alpha')\n",
        "plt.ylabel('weights')"
      ]
    },
    {
      "cell_type": "markdown",
      "metadata": {
        "id": "ZoWHrSPPJCyG"
      },
      "source": [
        "TO_DO 3: Hallar el coeficiente de las variables Hits Runs y Walks, arrojado por el algoritmo Ridge, para 3 lambdas distintos.\n",
        "Ejemplo: \"Para lambda=3.06795364e+00, el coeficiente de Hits es (valor), el coeficiente de Runs es (valor) y el coeficiente de Walks es (valor).\"\n",
        "\n",
        "**Respuesta:**"
      ]
    },
    {
      "cell_type": "code",
      "source": [
        "new_lambdas = [random.random() * 10 for _ in range(3)]\n",
        "columns = [\"Hits\", \"Runs\", \"Walks\"]\n",
        "for a in new_lambdas:\n",
        "    ridge.set_params(alpha = a)\n",
        "    text = f\"Para lambda = {a}, \"\n",
        "    for column in columns:\n",
        "        ridge.fit(X[[column]], y)\n",
        "        text += f\"el coeficiente de {column} es {ridge.coef_[0]}.\"\n",
        "    print(text)"
      ],
      "metadata": {
        "colab": {
          "base_uri": "https://localhost:8080/"
        },
        "id": "hvPs5KyVRb6q",
        "outputId": "fe26e1a0-c019-4de0-b178-3839e1ddfa14"
      },
      "execution_count": 33,
      "outputs": [
        {
          "output_type": "stream",
          "name": "stdout",
          "text": [
            "Para lambda = 7.24247657376263, el coeficiente de Hits es 0.5320535724296219.el coeficiente de Runs es 0.899742724813562.el coeficiente de Walks es 1.1185753676904917.\n",
            "Para lambda = 2.7332871906284426, el coeficiente de Hits es 1.174685708012636.el coeficiente de Runs es 1.986482141075451.el coeficiente de Walks es 2.4696281837949843.\n",
            "Para lambda = 5.86234443399111, el coeficiente de Hits es 0.6390584367953862.el coeficiente de Runs es 1.080696022040964.el coeficiente de Walks es 1.34353956623168.\n"
          ]
        }
      ]
    },
    {
      "cell_type": "markdown",
      "metadata": {
        "id": "BNB_1iWSs0x_"
      },
      "source": [
        "A continuación separamos el conjunto de datos en conjunto de Entrenamiento y Testeo."
      ]
    },
    {
      "cell_type": "code",
      "execution_count": 34,
      "metadata": {
        "id": "ZT6Ulnl9ubYn"
      },
      "outputs": [],
      "source": [
        "#TO_DO 4: \n",
        "#Escoger random_sate = 0. Y partir el conjunto de datos en Entrenamiento y Testeo, con porcentaje de Testeo de 20%\n",
        "\n",
        "X_train, X_test, y_train, y_test = train_test_split( X, y,test_size=0.20, random_state = 0)"
      ]
    },
    {
      "cell_type": "markdown",
      "metadata": {
        "id": "VY6_5sQfvn1O"
      },
      "source": [
        "Apliquemos el algoritmo de regresión lineal de SKLearn a éste conjunto de datos."
      ]
    },
    {
      "cell_type": "code",
      "execution_count": 35,
      "metadata": {
        "id": "D2bSIcULDiF5",
        "colab": {
          "base_uri": "https://localhost:8080/"
        },
        "outputId": "fa8065ac-f914-4e16-a438-f3193bd50d3e"
      },
      "outputs": [
        {
          "output_type": "stream",
          "name": "stdout",
          "text": [
            "Score =  0.5479922558493867\n"
          ]
        }
      ],
      "source": [
        "#TO_DO 5: Aplicar el algoritmo de regresión lineal de SKLearn a éste conjunto de datos e\n",
        "# imprimir su coeficiente de determinación R^2 (score)\n",
        "\n",
        "regr = LinearRegression()\n",
        "regr.fit(X_train, y_train)\n",
        "print(\"Score = \", regr.score(X_test, y_test))"
      ]
    },
    {
      "cell_type": "markdown",
      "metadata": {
        "id": "8aJWiIxKu29p"
      },
      "source": [
        "TO_DO 6: Cuáles son los valores de los parámetros en el modelo lineal obtenido? (Pista: En el taller anterior eran la pendiente y el punto de corte.) Cuál valor corresponde con cuál variable en el Dataset?\n",
        "\n",
        "**Respuesta:**"
      ]
    },
    {
      "cell_type": "code",
      "execution_count": 36,
      "metadata": {
        "colab": {
          "base_uri": "https://localhost:8080/"
        },
        "id": "YPqwP9NpNf1a",
        "outputId": "04875d1e-202d-432a-ad5a-7f1a960f1512"
      },
      "outputs": [
        {
          "output_type": "stream",
          "name": "stdout",
          "text": [
            "Variable  \t  Slope \n",
            " AtBat     -2.015452\n",
            "Hits       7.520141\n",
            "HmRun      9.312551\n",
            "Runs      -1.719625\n",
            "RBI       -2.340944\n",
            "Walks      7.285795\n",
            "Years      7.682881\n",
            "CAtBat    -0.165969\n",
            "CHits      0.274872\n",
            "CHmRun    -0.531528\n",
            "CRuns      1.164023\n",
            "CRBI       0.653199\n",
            "CWalks    -0.828976\n",
            "PutOuts    0.198798\n",
            "Assists    0.452282\n",
            "Errors    -5.308274\n",
            "dtype: float64\n",
            "\n",
            " Intercept: 76.70365473102424\n"
          ]
        }
      ],
      "source": [
        "print(\"Variable  \\t  Slope \\n\", pd.Series(regr.coef_, index = X.columns)) \n",
        "print('\\n Intercept:', regr.intercept_)"
      ]
    },
    {
      "cell_type": "markdown",
      "metadata": {
        "id": "UOipPDgdwHIj"
      },
      "source": [
        "## Regresión Ridge\n",
        "Ahora apliquemos Regresión de Ridge para algunos valores de lambda. En primer lugar usemos Lambda=4. "
      ]
    },
    {
      "cell_type": "code",
      "execution_count": 37,
      "metadata": {
        "id": "FkxCVV82u0MH",
        "colab": {
          "base_uri": "https://localhost:8080/"
        },
        "outputId": "c764f20a-42bf-402b-98c8-1d65906949b7"
      },
      "outputs": [
        {
          "output_type": "stream",
          "name": "stdout",
          "text": [
            "Variable  \t  Slope \n",
            " AtBat      0.110594\n",
            "Hits       0.468121\n",
            "HmRun      1.326256\n",
            "Runs       0.780493\n",
            "RBI        0.641412\n",
            "Walks      0.975142\n",
            "Years      2.797871\n",
            "CAtBat     0.008290\n",
            "CHits      0.032614\n",
            "CHmRun     0.217398\n",
            "CRuns      0.065236\n",
            "CRBI       0.065205\n",
            "CWalks     0.060786\n",
            "PutOuts    0.048521\n",
            "Assists    0.023617\n",
            "Errors    -0.394895\n",
            "dtype: float64\n",
            "\n",
            " MSE =  182118.17271549694\n",
            "\n",
            " Score =  0.3807122688711331\n"
          ]
        }
      ],
      "source": [
        "#Modelo de regresión de Ridge para Lambda=4\n",
        "# Note el uso del parámetro normalize=True\n",
        "ridge = Ridge(alpha = 4, normalize = True)\n",
        "ridge.fit(X_train, y_train)             # Entrenar una regresión de Ridge para el conjunto de entrenamiento.\n",
        "pred = ridge.predict(X_test)           # Uso del modelo para predecir el conjunto de Testeo\n",
        "print(\"Variable  \\t  Slope \\n\", pd.Series(ridge.coef_, index = X.columns)) # Imprimir los coeficientes del modelo\n",
        "print(\"\\n MSE = \", mean_squared_error(y_test, pred))          # Imprimit el error de mínimos cuadrados MSE\n",
        "print(\"\\n Score = \", ridge.score(X_test, y_test))         #Imprimir el coeficiente de determinación R^2"
      ]
    },
    {
      "cell_type": "code",
      "execution_count": 38,
      "metadata": {
        "id": "jFATExWKu3ZX",
        "colab": {
          "base_uri": "https://localhost:8080/"
        },
        "outputId": "b435acc1-5014-452f-8426-45d7235948c4"
      },
      "outputs": [
        {
          "output_type": "stream",
          "name": "stdout",
          "text": [
            "Variable  \t  Slope \n",
            " AtBat      1.199328e-10\n",
            "Hits       4.318179e-10\n",
            "HmRun      1.650614e-09\n",
            "Runs       7.511952e-10\n",
            "RBI        7.227535e-10\n",
            "Walks      8.969918e-10\n",
            "Years      3.478858e-09\n",
            "CAtBat     9.426433e-12\n",
            "CHits      3.471758e-11\n",
            "CHmRun     2.742106e-10\n",
            "CRuns      6.998938e-11\n",
            "CRBI       7.355186e-11\n",
            "CWalks     7.564463e-11\n",
            "PutOuts    3.687963e-11\n",
            "Assists    2.030162e-11\n",
            "Errors    -3.698884e-13\n",
            "dtype: float64\n",
            "\n",
            " MSE =  297431.06357839174\n",
            "\n",
            " Score =  -0.011405977691507418\n"
          ]
        }
      ],
      "source": [
        "#TO_DO 7 Hacer regresión Ridge para lambda=10^10. Imprimir los coeficientes obtenidos y el error MSE\n",
        "# Usar el parámetro normalize=True\n",
        "\n",
        "ridge = Ridge(alpha = 10**10, normalize = True)\n",
        "ridge.fit(X_train, y_train)             # Entrenar una regresión de Ridge para el conjunto de entrenamiento.\n",
        "pred = ridge.predict(X_test)           # Uso del modelo para predecir el conjunto de Testeo\n",
        "print(\"Variable  \\t  Slope \\n\", pd.Series(ridge.coef_, index = X.columns)) # Imprimir los coeficientes del modelo\n",
        "print(\"\\n MSE = \", mean_squared_error(y_test, pred))          # Imprimit el error de mínimos cuadrados MSE\n",
        "print(\"\\n Score = \", ridge.score(X_test, y_test))         #Imprimir el coeficiente de determinación R^2"
      ]
    },
    {
      "cell_type": "markdown",
      "metadata": {
        "id": "hG9rLSeBypmX"
      },
      "source": [
        "TO_DO 8: Cuál debería ser el coeficiente de determinación R^2 al asignar Lambda=0? Justifique y compruebe en la siguiente celda.\n",
        "\n",
        "**Respuesta y justificación:**\n",
        "\n",
        "La penalización impuesta a los coeficientes del modelo en la regresión de Ridge se controla mediante el valor de lambda. Un valor grande de lambda normalmente reduce los coeficientes y aumenta la penalización, lo que disminuye la complejidad del modelo y ayuda a evitar el sobreajuste. En cambio, un valor bajo de lambda reduce la penalización y permite que los coeficientes del modelo sean mayores. \n",
        "\n",
        "En el caso de lambda = 10^10, el valor es tan grande que reduce los coeficientes a tal punto que son 0 e incluso negativos, produciendo un coeficiente de determinación R-square negativo cuando teóricamente no debería ocurrir. Esto último se justifica en la gran penalización aplicada a los coeficientes de la regresión, produciendo un modelo subajustado que es incapaz de modelar nuevos datos con precisión.\n",
        "\n",
        "De lo anterior podremos inferir que, al considerar un lambda cercano a 0, la penalización será casi nula. El modelo se ajustará a los datos de entrenamiento sin restricciones, produciendo en el caso de los datos de entrenamiento una predicción relativamente buena, pero inexacto para datos nuevos."
      ]
    },
    {
      "cell_type": "code",
      "execution_count": 39,
      "metadata": {
        "id": "cPKuNNqivH8v",
        "colab": {
          "base_uri": "https://localhost:8080/"
        },
        "outputId": "1c41e387-e4c1-495e-c53b-639cc6d4fccc"
      },
      "outputs": [
        {
          "output_type": "stream",
          "name": "stdout",
          "text": [
            "AtBat     -2.015452\n",
            "Hits       7.520141\n",
            "HmRun      9.312551\n",
            "Runs      -1.719625\n",
            "RBI       -2.340944\n",
            "Walks      7.285795\n",
            "Years      7.682881\n",
            "CAtBat    -0.165969\n",
            "CHits      0.274872\n",
            "CHmRun    -0.531528\n",
            "CRuns      1.164023\n",
            "CRBI       0.653199\n",
            "CWalks    -0.828976\n",
            "PutOuts    0.198798\n",
            "Assists    0.452282\n",
            "Errors    -5.308274\n",
            "dtype: float64\n",
            "132925.00445295323\n",
            "0.5479922558493846\n"
          ]
        }
      ],
      "source": [
        "# TO_DO 9 Verifique su respuesta anterior.\n",
        "# Usar el parámetro normalize=True\n",
        "\n",
        "ridge = Ridge(alpha = 0, normalize = True)\n",
        "ridge.fit(X_train, y_train)             # Entrenar una regresión de Ridge para el conjunto de entrenamiento.\n",
        "pred = ridge.predict(X_test)           # Uso del modelo para predecir el conjunto de Testeo\n",
        "print(pd.Series(ridge.coef_, index = X.columns)) # Imprimir los coeficientes del modelo\n",
        "print(mean_squared_error(y_test, pred))          # Imprimit el error de mínimos cuadrados MSE\n",
        "print(ridge.score(X_test, y_test))         #Imprimir el coeficiente de determinación R^2"
      ]
    },
    {
      "cell_type": "code",
      "execution_count": 40,
      "metadata": {
        "id": "ISu__2uNvbcp",
        "colab": {
          "base_uri": "https://localhost:8080/"
        },
        "outputId": "6a251a05-ed76-4eec-e9ad-47475d8cd32c"
      },
      "outputs": [
        {
          "output_type": "execute_result",
          "data": {
            "text/plain": [
              "0.017475284000076828"
            ]
          },
          "metadata": {},
          "execution_count": 40
        }
      ],
      "source": [
        "# con RidgeCV de SKLearn hacer cross validation con la lista de Lambdas y normalize True\n",
        "# Imprimir el alpha optimo. Note que usamos el parametro normalize=True\n",
        "ridgecv = RidgeCV(alphas = lambdas, normalize = True)\n",
        "ridgecv.fit(X_train, y_train)\n",
        "ridgecv.alpha_"
      ]
    },
    {
      "cell_type": "code",
      "execution_count": 41,
      "metadata": {
        "id": "-r72ay2gvjpo",
        "colab": {
          "base_uri": "https://localhost:8080/"
        },
        "outputId": "1aed8f9e-713b-4056-aca5-0d811997c7de"
      },
      "outputs": [
        {
          "output_type": "stream",
          "name": "stdout",
          "text": [
            "AtBat     -1.360775\n",
            "Hits       4.688444\n",
            "HmRun      4.268878\n",
            "Runs       0.779590\n",
            "RBI       -0.500785\n",
            "Walks      5.491605\n",
            "Years     -0.403531\n",
            "CAtBat    -0.026945\n",
            "CHits      0.192030\n",
            "CHmRun     0.032421\n",
            "CRuns      0.488181\n",
            "CRBI       0.287817\n",
            "CWalks    -0.541507\n",
            "PutOuts    0.191367\n",
            "Assists    0.334572\n",
            "Errors    -5.791659\n",
            "dtype: float64\n",
            "MSE =  138610.546698774\n",
            "Score =  0.5286587291334531\n"
          ]
        }
      ],
      "source": [
        "#TO_DO 10 Con el alpha optimo hallado arriba, calcular los coeficientes(parámetros),\n",
        "# el error cuadrático MSE y el coeficiente de determinación R^2 en el conjunto de Testeo.\n",
        "# Usar el parámetro normalize=True\n",
        "\n",
        "ridge = Ridge(alpha = ridgecv.alpha_, normalize = True)\n",
        "ridge.fit(X_train, y_train)             # Entrenar una regresión de Ridge para el conjunto de entrenamiento.\n",
        "pred = ridge.predict(X_test)           # Uso del modelo para predecir el conjunto de Testeo\n",
        "print(pd.Series(ridge.coef_, index = X.columns)) # Imprimir los coeficientes del modelo\n",
        "print(\"MSE = \", mean_squared_error(y_test, pred))          # Imprimit el error de mínimos cuadrados MSE\n",
        "print(\"Score = \",ridge.score(X_test, y_test))         #Imprimir el coeficiente de determinación R^2"
      ]
    },
    {
      "cell_type": "markdown",
      "metadata": {
        "id": "X1tTtE2w1OcF"
      },
      "source": [
        "## Regresión Lasso\n",
        "Ahora aplicaremos regresión Lasso a éste conjunto de datos. Para esto, en primero lugar encontremos el valor óptimo de Lambda."
      ]
    },
    {
      "cell_type": "code",
      "execution_count": 42,
      "metadata": {
        "id": "d_Acv6lawBDT",
        "colab": {
          "base_uri": "https://localhost:8080/"
        },
        "outputId": "c2b68180-aacf-4358-d330-d86864935d06"
      },
      "outputs": [
        {
          "output_type": "stream",
          "name": "stdout",
          "text": [
            "El mejor valor de Lambda es: 0.1369103948595804\n"
          ]
        }
      ],
      "source": [
        "# TO_DO 11 Determinar el valor óptimo de Lambda mediante corss-validation\n",
        "## Usar el parámetro normalize=True\n",
        "\n",
        "lassocv = LassoCV(normalize = True)\n",
        "lassocv.fit(X, y)\n",
        "print(\"El mejor valor de Lambda es:\", lassocv.alpha_)"
      ]
    },
    {
      "cell_type": "code",
      "execution_count": 43,
      "metadata": {
        "id": "5dO8Eg-EwXND",
        "colab": {
          "base_uri": "https://localhost:8080/"
        },
        "outputId": "64e8303e-0e97-4d05-91a5-25360d8ce27c"
      },
      "outputs": [
        {
          "output_type": "stream",
          "name": "stdout",
          "text": [
            "AtBat     -1.791097\n",
            "Hits       6.153781\n",
            "HmRun      3.465932\n",
            "Runs       0.000000\n",
            "RBI       -0.000000\n",
            "Walks      5.995228\n",
            "Years     -0.000000\n",
            "CAtBat    -0.000000\n",
            "CHits      0.000000\n",
            "CHmRun     0.000000\n",
            "CRuns      0.768853\n",
            "CRBI       0.279342\n",
            "CWalks    -0.656026\n",
            "PutOuts    0.193751\n",
            "Assists    0.299230\n",
            "Errors    -4.599111\n",
            "dtype: float64\n",
            "MSE =  138610.546698774\n",
            "Score =  0.5401480453819162\n"
          ]
        }
      ],
      "source": [
        "# TO_DO 12 Aplicar regresión de Lasso al conjunto de datos, usando el valor de Lambda encontrado arriba\n",
        "# Usar el parámetro normalize=True\n",
        "\n",
        "lasso = Lasso(alpha = lassocv.alpha_, normalize = True)\n",
        "lasso.fit(X_train, y_train)             # Entrenar una regresión de Ridge para el conjunto de entrenamiento.\n",
        "pred = ridge.predict(X_test)           # Uso del modelo para predecir el conjunto de Testeo\n",
        "print(pd.Series(lasso.coef_, index = X.columns)) # Imprimir los coeficientes del modelo\n",
        "print(\"MSE = \", mean_squared_error(y_test, pred))          # Imprimit el error de mínimos cuadrados MSE\n",
        "print(\"Score = \",lasso.score(X_test, y_test))         #Imprimir el coeficiente de determinación R^2"
      ]
    },
    {
      "cell_type": "code",
      "execution_count": 44,
      "metadata": {
        "id": "mBX9-ongw1XA",
        "colab": {
          "base_uri": "https://localhost:8080/"
        },
        "outputId": "9ce81ec8-5c66-4d19-81ea-4625fa712789"
      },
      "outputs": [
        {
          "output_type": "execute_result",
          "data": {
            "text/plain": [
              "AtBat     -1.791097\n",
              "Hits       6.153781\n",
              "HmRun      3.465932\n",
              "Runs       0.000000\n",
              "RBI       -0.000000\n",
              "Walks      5.995228\n",
              "Years     -0.000000\n",
              "CAtBat    -0.000000\n",
              "CHits      0.000000\n",
              "CHmRun     0.000000\n",
              "CRuns      0.768853\n",
              "CRBI       0.279342\n",
              "CWalks    -0.656026\n",
              "PutOuts    0.193751\n",
              "Assists    0.299230\n",
              "Errors    -4.599111\n",
              "dtype: float64"
            ]
          },
          "metadata": {},
          "execution_count": 44
        }
      ],
      "source": [
        "#Imprimir los coeficientes de la misma forma que en Ridge.\n",
        "pd.Series(lasso.coef_, index=X.columns)"
      ]
    },
    {
      "cell_type": "code",
      "execution_count": 45,
      "metadata": {
        "id": "JdjVTuwhxBf3",
        "colab": {
          "base_uri": "https://localhost:8080/"
        },
        "outputId": "9cf2cca9-b3bd-4094-d8a2-ce016e4d7ee2"
      },
      "outputs": [
        {
          "output_type": "stream",
          "name": "stdout",
          "text": [
            "Score =  0.6077404787012837\n"
          ]
        }
      ],
      "source": [
        "#Imprimir el score (R^2)\n",
        "print(\"Score = \",lassocv.score(X_test, y_test))"
      ]
    },
    {
      "cell_type": "markdown",
      "metadata": {
        "id": "xF5UUEhx5r1_"
      },
      "source": [
        "TO_DO 13: Escriba sus conclusiones acerca de los diferentes modelos obtenidos y sus métricas."
      ]
    },
    {
      "cell_type": "code",
      "source": [
        "print(\"\\t \\t Datos Resultantes\")\n",
        "print(\"\\t Modelo de Ridge \\n\", \"Alpha = \", ridgecv.alpha_, \"\\n MSE = \", mean_squared_error(y_test, pred), \"\\n Score = \", ridge.score(X_test, y_test))\n",
        "print(\"\\t Modelo de Lasso \\n\", \"Alpha = \", lassocv.alpha_, \"\\n MSE = \", mean_squared_error(y_test, pred), \"\\n Score = \", lassocv.score(X_test, y_test))"
      ],
      "metadata": {
        "colab": {
          "base_uri": "https://localhost:8080/"
        },
        "id": "IF9_CRGNeMhN",
        "outputId": "fbc39c9c-79cc-4c53-91f1-1617c91856eb"
      },
      "execution_count": 46,
      "outputs": [
        {
          "output_type": "stream",
          "name": "stdout",
          "text": [
            "\t \t Datos Resultantes\n",
            "\t Modelo de Ridge \n",
            " Alpha =  0.017475284000076828 \n",
            " MSE =  138610.546698774 \n",
            " Score =  0.5286587291334531\n",
            "\t Modelo de Lasso \n",
            " Alpha =  0.1369103948595804 \n",
            " MSE =  138610.546698774 \n",
            " Score =  0.6077404787012837\n"
          ]
        }
      ]
    },
    {
      "cell_type": "markdown",
      "source": [
        "\n",
        "**Conclusión**\n",
        "\n",
        "Los métodos de regresión como los modelos de regresión Lasso y Ridge se emplean para mejorar el rendimiento de la regresión lineal y evitar el sobreajuste. La principal diferencia entre los dos modelos es que Ridge emplea una penalización de valor cuadrático, mientras que Lasso aplica una penalización de valor absoluto a los coeficientes de regresión. Esto puede resultar en diferentes conjuntos de coeficientes para los dos métodos.\n",
        "\n",
        "En cuanto a las datos obtenidos, el coeficiente de determinación R^2 indica la varianza de la variable de respuesta que se puede explicar por el modelo de regresión. Un valor de R^2 más alto significa que el modelo puede explicar una mayor parte de la variabilidad de los datos de respuesta. Dado que el método Lasso es algo menor en este caso que el método Ridge, Ridge explica ligeramente más la variación en los datos que Lasso.\n",
        "\n",
        "Al comparar los dos algoritmos, Lasso tiene un valor alfa más bajo que Ridge, lo que indica que utiliza una colección más pequeña de características para producir su predicción. Esto concuerda con la hipótesis de que, mientras que Ridge sólo reduce el tamaño de las características sin importancia, Lasso tiende a llevar sus coeficientes a cero.\n",
        "\n",
        "Adicionalmente, para calcular el valor ideal de alfa en modelos de regresión Ridge y Lasso, el procedimiento de validación cruzada es una herramienta potente. Podemos identificar el valor de alfa que maximiza la capacidad del modelo para generalizar los nuevos datos, al probar distintos valores de alfa. Esto es crucial para garantizar que nuestro modelo tiene un gran poder de predicción y no está sobreajustado.\n",
        "\n",
        "En términos de lo bien que pueden predecir nuevos valores y ajustarse a los datos, estos modelos son generalmente comparables. Sin embargo, Lasso podría ser una opción preferible si desea favorecer la simplicidad del modelo y minimizar el número de características incluidas en la predicción. Ridge podría ser una opción mejor si desea maximizar la cantidad de variabilidad de los datos que se explica."
      ],
      "metadata": {
        "id": "vnB3V7lkdBlo"
      }
    }
  ],
  "metadata": {
    "colab": {
      "provenance": []
    },
    "kernelspec": {
      "display_name": "Python 3",
      "language": "python",
      "name": "python3"
    },
    "language_info": {
      "codemirror_mode": {
        "name": "ipython",
        "version": 3
      },
      "file_extension": ".py",
      "mimetype": "text/x-python",
      "name": "python",
      "nbconvert_exporter": "python",
      "pygments_lexer": "ipython3",
      "version": "3.11.1"
    },
    "vscode": {
      "interpreter": {
        "hash": "853f01df416f9b6b452f137e2a36198d6e629a7bb44a1f05230e2b1718f523f7"
      }
    }
  },
  "nbformat": 4,
  "nbformat_minor": 0
}