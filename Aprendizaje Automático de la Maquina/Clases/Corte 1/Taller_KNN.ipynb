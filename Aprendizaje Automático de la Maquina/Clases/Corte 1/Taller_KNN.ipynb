{
 "cells": [
  {
   "cell_type": "markdown",
   "metadata": {
    "id": "vb7JcpGytwI-"
   },
   "source": [
    "# Taller 3 : Vecinos más cercanos (KNN)"
   ]
  },
  {
   "cell_type": "markdown",
   "metadata": {},
   "source": [
    "**Nombres:** \n",
    "\n",
    "*   Diryon Yonith Mora Romero.\n",
    "*   Laura Valentina Gonzalez Rodriguez."
   ]
  },
  {
   "cell_type": "markdown",
   "metadata": {
    "id": "TfBew5r1uKq3"
   },
   "source": [
    "Usamos el método de vecinos más cercanos para clasificación. Por un lado, analizamos el Iris Dataset sobre especies de flores. Por el otro lado analizamos la supervivencia en la tragedia del Titanic utilizando diferentes valores de K. \n",
    "\n",
    "Importamos primero las librerías y paquetes que utilizaremos. Puede importar otros si lo considera útil."
   ]
  },
  {
   "cell_type": "code",
   "execution_count": 110,
   "metadata": {
    "id": "y1nYtnFwncsf"
   },
   "outputs": [],
   "source": [
    "#importar paquetes\n",
    "import numpy as np\n",
    "import pandas as pd\n",
    "import matplotlib.pyplot as plt\n",
    "from sklearn.model_selection import train_test_split\n",
    "from sklearn.neighbors import KNeighborsClassifier"
   ]
  },
  {
   "cell_type": "markdown",
   "metadata": {
    "id": "y2PGF2SZV1Ep"
   },
   "source": [
    "## Iris Dataset\n",
    "\n",
    "Importamos el conjunto de datos desde sklearn.\n",
    "\n",
    "\n"
   ]
  },
  {
   "cell_type": "code",
   "execution_count": 111,
   "metadata": {
    "id": "-je5Z5yIiAht"
   },
   "outputs": [],
   "source": [
    "#importar dataset\n",
    "from sklearn.datasets import load_iris"
   ]
  },
  {
   "cell_type": "code",
   "execution_count": 112,
   "metadata": {
    "id": "aGVzYnkVAzcG"
   },
   "outputs": [],
   "source": [
    "#Importar iris dataset y separar en data y target\n",
    "iris = load_iris()\n",
    "X=pd.DataFrame(iris.data)\n",
    "y=pd.DataFrame(iris.target)"
   ]
  },
  {
   "cell_type": "markdown",
   "metadata": {
    "id": "4b1lK_jfRN0G"
   },
   "source": [
    "Primero separamos el conjunto de datos en Train y Test, en una proporción de 70%, 30%."
   ]
  },
  {
   "cell_type": "code",
   "execution_count": 113,
   "metadata": {
    "id": "iD4eBBStBuIu"
   },
   "outputs": [],
   "source": [
    "#Separar en train y test\n",
    "X_train, X_test, y_train, y_test =train_test_split(X,y,test_size=0.3)"
   ]
  },
  {
   "cell_type": "markdown",
   "metadata": {
    "id": "CCarZX--RanF"
   },
   "source": [
    "Importamos el classificador KNeighborsClassifier de SKLearn con el nombre *knn*. Usar k=3.\n"
   ]
  },
  {
   "cell_type": "code",
   "execution_count": 114,
   "metadata": {
    "id": "vsn3h3j2BmAk"
   },
   "outputs": [],
   "source": [
    "#TODO1 importar KNeighborsClassifier con k=3 con el nombre knn\n",
    "knn = KNeighborsClassifier(n_neighbors=3)"
   ]
  },
  {
   "cell_type": "markdown",
   "metadata": {
    "id": "EIWHeEGDSMeY"
   },
   "source": [
    "Entrenamos el clasificador con los datos de entrenamiento."
   ]
  },
  {
   "cell_type": "code",
   "execution_count": 115,
   "metadata": {
    "id": "bxM2E55YB6n0"
   },
   "outputs": [
    {
     "data": {
      "text/html": [
       "<style>#sk-container-id-7 {color: black;background-color: white;}#sk-container-id-7 pre{padding: 0;}#sk-container-id-7 div.sk-toggleable {background-color: white;}#sk-container-id-7 label.sk-toggleable__label {cursor: pointer;display: block;width: 100%;margin-bottom: 0;padding: 0.3em;box-sizing: border-box;text-align: center;}#sk-container-id-7 label.sk-toggleable__label-arrow:before {content: \"▸\";float: left;margin-right: 0.25em;color: #696969;}#sk-container-id-7 label.sk-toggleable__label-arrow:hover:before {color: black;}#sk-container-id-7 div.sk-estimator:hover label.sk-toggleable__label-arrow:before {color: black;}#sk-container-id-7 div.sk-toggleable__content {max-height: 0;max-width: 0;overflow: hidden;text-align: left;background-color: #f0f8ff;}#sk-container-id-7 div.sk-toggleable__content pre {margin: 0.2em;color: black;border-radius: 0.25em;background-color: #f0f8ff;}#sk-container-id-7 input.sk-toggleable__control:checked~div.sk-toggleable__content {max-height: 200px;max-width: 100%;overflow: auto;}#sk-container-id-7 input.sk-toggleable__control:checked~label.sk-toggleable__label-arrow:before {content: \"▾\";}#sk-container-id-7 div.sk-estimator input.sk-toggleable__control:checked~label.sk-toggleable__label {background-color: #d4ebff;}#sk-container-id-7 div.sk-label input.sk-toggleable__control:checked~label.sk-toggleable__label {background-color: #d4ebff;}#sk-container-id-7 input.sk-hidden--visually {border: 0;clip: rect(1px 1px 1px 1px);clip: rect(1px, 1px, 1px, 1px);height: 1px;margin: -1px;overflow: hidden;padding: 0;position: absolute;width: 1px;}#sk-container-id-7 div.sk-estimator {font-family: monospace;background-color: #f0f8ff;border: 1px dotted black;border-radius: 0.25em;box-sizing: border-box;margin-bottom: 0.5em;}#sk-container-id-7 div.sk-estimator:hover {background-color: #d4ebff;}#sk-container-id-7 div.sk-parallel-item::after {content: \"\";width: 100%;border-bottom: 1px solid gray;flex-grow: 1;}#sk-container-id-7 div.sk-label:hover label.sk-toggleable__label {background-color: #d4ebff;}#sk-container-id-7 div.sk-serial::before {content: \"\";position: absolute;border-left: 1px solid gray;box-sizing: border-box;top: 0;bottom: 0;left: 50%;z-index: 0;}#sk-container-id-7 div.sk-serial {display: flex;flex-direction: column;align-items: center;background-color: white;padding-right: 0.2em;padding-left: 0.2em;position: relative;}#sk-container-id-7 div.sk-item {position: relative;z-index: 1;}#sk-container-id-7 div.sk-parallel {display: flex;align-items: stretch;justify-content: center;background-color: white;position: relative;}#sk-container-id-7 div.sk-item::before, #sk-container-id-7 div.sk-parallel-item::before {content: \"\";position: absolute;border-left: 1px solid gray;box-sizing: border-box;top: 0;bottom: 0;left: 50%;z-index: -1;}#sk-container-id-7 div.sk-parallel-item {display: flex;flex-direction: column;z-index: 1;position: relative;background-color: white;}#sk-container-id-7 div.sk-parallel-item:first-child::after {align-self: flex-end;width: 50%;}#sk-container-id-7 div.sk-parallel-item:last-child::after {align-self: flex-start;width: 50%;}#sk-container-id-7 div.sk-parallel-item:only-child::after {width: 0;}#sk-container-id-7 div.sk-dashed-wrapped {border: 1px dashed gray;margin: 0 0.4em 0.5em 0.4em;box-sizing: border-box;padding-bottom: 0.4em;background-color: white;}#sk-container-id-7 div.sk-label label {font-family: monospace;font-weight: bold;display: inline-block;line-height: 1.2em;}#sk-container-id-7 div.sk-label-container {text-align: center;}#sk-container-id-7 div.sk-container {/* jupyter's `normalize.less` sets `[hidden] { display: none; }` but bootstrap.min.css set `[hidden] { display: none !important; }` so we also need the `!important` here to be able to override the default hidden behavior on the sphinx rendered scikit-learn.org. See: https://github.com/scikit-learn/scikit-learn/issues/21755 */display: inline-block !important;position: relative;}#sk-container-id-7 div.sk-text-repr-fallback {display: none;}</style><div id=\"sk-container-id-7\" class=\"sk-top-container\"><div class=\"sk-text-repr-fallback\"><pre>KNeighborsClassifier(n_neighbors=3)</pre><b>In a Jupyter environment, please rerun this cell to show the HTML representation or trust the notebook. <br />On GitHub, the HTML representation is unable to render, please try loading this page with nbviewer.org.</b></div><div class=\"sk-container\" hidden><div class=\"sk-item\"><div class=\"sk-estimator sk-toggleable\"><input class=\"sk-toggleable__control sk-hidden--visually\" id=\"sk-estimator-id-7\" type=\"checkbox\" checked><label for=\"sk-estimator-id-7\" class=\"sk-toggleable__label sk-toggleable__label-arrow\">KNeighborsClassifier</label><div class=\"sk-toggleable__content\"><pre>KNeighborsClassifier(n_neighbors=3)</pre></div></div></div></div></div>"
      ],
      "text/plain": [
       "KNeighborsClassifier(n_neighbors=3)"
      ]
     },
     "execution_count": 115,
     "metadata": {},
     "output_type": "execute_result"
    }
   ],
   "source": [
    "#TODO2 entrenar knn con los datos de entrenamiento\n",
    "\n",
    "y_train = np.ravel(y_train)\n",
    "y_test = np.ravel(y_test)\n",
    "knn.fit(X_train, y_train)\n",
    "\n",
    "# Arroja un error de DataConversionWarning: A column-vector y was passed when a 1d array was expected. Please change the shape of y to (n_samples,), for example using ravel().\n",
    "#knn.fit(X_train, y_train)"
   ]
  },
  {
   "cell_type": "markdown",
   "metadata": {
    "id": "6cQAgKmeSd78"
   },
   "source": [
    "Calculamos la exactitud del modelo en los datos Test, con el método *score* del clasificador."
   ]
  },
  {
   "cell_type": "code",
   "execution_count": 116,
   "metadata": {
    "id": "zlrL9JhAB87q"
   },
   "outputs": [
    {
     "name": "stdout",
     "output_type": "stream",
     "text": [
      "Score =  0.9777777777777777\n"
     ]
    }
   ],
   "source": [
    "#TODO3 calcular la exactitud (score) del modelo en los datos test.\n",
    "\n",
    "print(\"Score = \", knn.score(X_test, y_test))"
   ]
  },
  {
   "cell_type": "markdown",
   "metadata": {},
   "source": [
    "**TODO 4**: Observe los diagramas de dispersión del Iris datset [aquí](https://es.wikipedia.org/wiki/Conjunto_de_datos_flor_iris).¿Cree que la exactitud mejorará con un k más pequeño?¿Cree que mejorará con un K más grande? ¿Por qué?"
   ]
  },
  {
   "cell_type": "markdown",
   "metadata": {},
   "source": [
    "Observando los diagramas de dispersión del Iris dataset, se puede apreciar que las tres clases de flores se mezclan entre sí, especialmente la clase \"versicolor\" y \"virginica\". Debido a esta superposición de clases, es posible que un valor de k más pequeño permita al algoritmo capturar mejor las diferencias entre las clases y, por lo tanto, aumentar la exactitud del modelo.\n",
    "\n",
    "Por otro lado, un valor de k más grande permitiría una mayor suavización de los límites de decisión del modelo, lo que podría reducir el efecto del ruido y las irregularidades en los datos. Sin embargo, un valor de k demasiado grande también podría resultar en un modelo que es demasiado simple y no puede capturar adecuadamente las relaciones entre las variables predictoras y la variable objetivo. En general, la elección de k depende de la complejidad del problema y la cantidad de ruido presente en los datos."
   ]
  },
  {
   "cell_type": "markdown",
   "metadata": {
    "id": "SeWq0Z6I0Jkk"
   },
   "source": [
    "\n",
    "## Titanic Dataset\n",
    "Ahora analizamos la supervivencia en el naufragio del Titanic. El conjunto de datos, así como el diccionario de atributos, puede verlos [aquí](https://www.kaggle.com/competitions/titanic/data).\n",
    "\n",
    "*Observación* Usaremos sólo el conjunto Train proporcionado en Kaggle para la fase Test y Train en el taller."
   ]
  },
  {
   "cell_type": "code",
   "execution_count": 117,
   "metadata": {
    "id": "mmzuPixPE4NO"
   },
   "outputs": [],
   "source": [
    "#importar los datos de entrenamiento del Titanic Dataset.\n",
    "df=pd.read_csv(\"train.csv\")"
   ]
  },
  {
   "cell_type": "markdown",
   "metadata": {
    "id": "_NN0VP4BU2Pw"
   },
   "source": [
    "Eliminar del dataframe las filas con valores ausentes (NaN)."
   ]
  },
  {
   "cell_type": "code",
   "execution_count": 118,
   "metadata": {
    "id": "PBJCxZPgVRb8"
   },
   "outputs": [],
   "source": [
    "#TODO5 Remover filas con valores ausentes.\n",
    "\n",
    "df = df.dropna()"
   ]
  },
  {
   "cell_type": "markdown",
   "metadata": {
    "id": "fjq8-ogxXt_5"
   },
   "source": [
    "Explorar el dataset mediante su visualización, el uso de los métodos *head*, *info* y *value_counts* para los Dataframes en pandas y sus columnas. ¿Qué tipo de variables tiene? qué caracteriza a los valores de dichas variables? ¿Qué tipos de datos se usan?"
   ]
  },
  {
   "cell_type": "code",
   "execution_count": 119,
   "metadata": {
    "id": "03OZ6O4kFHaA"
   },
   "outputs": [
    {
     "name": "stdout",
     "output_type": "stream",
     "text": [
      "<class 'pandas.core.frame.DataFrame'>\n",
      "Int64Index: 183 entries, 1 to 889\n",
      "Data columns (total 12 columns):\n",
      " #   Column       Non-Null Count  Dtype  \n",
      "---  ------       --------------  -----  \n",
      " 0   PassengerId  183 non-null    int64  \n",
      " 1   Survived     183 non-null    int64  \n",
      " 2   Pclass       183 non-null    int64  \n",
      " 3   Name         183 non-null    object \n",
      " 4   Sex          183 non-null    object \n",
      " 5   Age          183 non-null    float64\n",
      " 6   SibSp        183 non-null    int64  \n",
      " 7   Parch        183 non-null    int64  \n",
      " 8   Ticket       183 non-null    object \n",
      " 9   Fare         183 non-null    float64\n",
      " 10  Cabin        183 non-null    object \n",
      " 11  Embarked     183 non-null    object \n",
      "dtypes: float64(2), int64(5), object(5)\n",
      "memory usage: 18.6+ KB\n",
      "\n",
      " 1    123\n",
      "0     60\n",
      "Name: Survived, dtype: int64 \n",
      "\n",
      "1    158\n",
      "2     15\n",
      "3     10\n",
      "Name: Pclass, dtype: int64 \n",
      "\n",
      "male      95\n",
      "female    88\n",
      "Name: Sex, dtype: int64 \n",
      "\n",
      "36.0    11\n",
      "24.0     9\n",
      "19.0     6\n",
      "35.0     6\n",
      "31.0     5\n",
      "        ..\n",
      "71.0     1\n",
      "3.0      1\n",
      "1.0      1\n",
      "36.5     1\n",
      "26.0     1\n",
      "Name: Age, Length: 63, dtype: int64 \n",
      "\n",
      "S    116\n",
      "C     65\n",
      "Q      2\n",
      "Name: Embarked, dtype: int64 \n",
      "\n"
     ]
    }
   ],
   "source": [
    "#TODO6 Explorar el dataset\n",
    "df.head()\n",
    "df.info()\n",
    "\n",
    "print(\"\\n\",df['Survived'].value_counts(),\"\\n\")\n",
    "print(df['Pclass'].value_counts(),\"\\n\")\n",
    "print(df['Sex'].value_counts(),\"\\n\")\n",
    "print(df['Age'].value_counts(),\"\\n\")\n",
    "print(df['Embarked'].value_counts(),\"\\n\")"
   ]
  },
  {
   "cell_type": "markdown",
   "metadata": {},
   "source": [
    "El método head() muestra las primeras 5 filas del dataframe, lo que permite tener una idea de la estructura general del conjunto de datos. El método info() proporciona información general del dataframe, como la cantidad de filas, columnas, nombre de las columnas y tipo de datos de cada columna. Los métodos value_counts() cuentan la cantidad de valores únicos en una columna específica.\n",
    "\n",
    "En cuanto a los tipos de variables, se pueden identificar dos tipos: variables categóricas y variables numéricas. Las variables categóricas son aquellas que describen características que no se pueden medir de forma continua, como el sexo, la clase del billete y el puerto de embarque. Por otro lado, las variables numéricas son aquellas que describen características que se pueden medir de forma continua, como la edad, la tarifa del billete y el número de hermanos/cónyuges a bordo.\n",
    "\n",
    "Los valores de las variables categóricas se caracterizan por ser discretos y limitados a un conjunto finito de opciones, mientras que los valores de las variables numéricas son continuos y pueden tomar cualquier valor dentro de un rango específico. Los tipos de datos que se usan son principalmente enteros y flotantes para las variables numéricas, y cadenas de texto para las variables categóricas."
   ]
  },
  {
   "cell_type": "markdown",
   "metadata": {
    "id": "J0_OIMbr0ueD"
   },
   "source": [
    "**TODO7**: ¿Cuáles considera, de acuero a su intuición que son las variables más relevantes para predecir la columna 'Survived'? ¿Cuáles considera irrelevantes?¿Por qué?"
   ]
  },
  {
   "cell_type": "markdown",
   "metadata": {},
   "source": [
    "Según mi intuición, las variables más relevantes para predecir la columna \"Survived\" serían las siguientes:\n",
    "\n",
    "    Sexo: Se sabe que durante el naufragio del Titanic, se dio prioridad a las mujeres y los niños para el acceso a los botes salvavidas. Por lo tanto, es probable que el sexo de un pasajero tenga una fuerte relación con su supervivencia.\n",
    "\n",
    "    Clase del billete: Se sabe que las personas en las clases más altas tenían más probabilidades de sobrevivir, ya que tenían acceso a mejores alojamientos y a los botes salvavidas de manera prioritaria. Por lo tanto, es probable que la clase del billete tenga una relación con la supervivencia.\n",
    "\n",
    "    Edad: Los niños y los ancianos también tuvieron prioridad para acceder a los botes salvavidas. Por lo tanto, la edad de un pasajero puede tener una relación con su supervivencia.\n",
    "    \n",
    "    ibSp: Esta variable indica la cantidad de hermanos/cónyuges a bordo del Titanic. Como mencionamos anteriormente, la posibilidad de sobrevivir puede estar relacionada con tener a un familiar cercano a bordo, por lo que esta variable podría ser relevante para predecir la supervivencia.\n",
    "\n",
    "    Fare: El precio del billete también puede estar relacionado con la clase del billete y, por lo tanto, con la probabilidad de supervivencia. Las personas con billetes más caros tenían más probabilidades de sobrevivir, como ya mencionamos.\n",
    "\n",
    "    Parch: Esta variable indica la cantidad de padres/hijos a bordo del Titanic. Similar a la variable SibSp, puede haber una relación entre tener familiares cercanos a bordo y la probabilidad de sobrevivir.\n",
    "\n",
    "    Embarked: Esta variable indica el puerto de embarque del pasajero. Si bien esto puede no estar directamente relacionado con la supervivencia, puede estar relacionado con otros factores que influyen en la supervivencia, como la clase del billete o la nacionalidad del pasajero.\n",
    "\n",
    "Por otro lado, considero que las siguientes variables pueden ser menos relevantes para predecir la columna \"Survived\":\n",
    "\n",
    "    Número de billete: Esta variable es principalmente identificadora y no aporta información significativa sobre la supervivencia de un pasajero.\n",
    "\n",
    "    Nombre: Similar a la variable número de billete, esta variable es principalmente identificadora y no aporta información significativa sobre la supervivencia de un pasajero.\n",
    "\n",
    "    Cabina: Esta variable puede ser relevante si se tiene información sobre la ubicación de las cabinas en el barco y su relación con la probabilidad de supervivencia. Sin embargo, en ausencia de esa información, la variable puede ser menos relevante.\n",
    "\n",
    "En resumen, considero que las variables más relevantes para predecir la supervivencia de un pasajero en el naufragio del Titanic son el sexo, la clase del billete y la edad, mientras que las variables menos relevantes son el número de billete, el nombre y la cabina."
   ]
  },
  {
   "cell_type": "code",
   "execution_count": 120,
   "metadata": {
    "id": "iYLagSw_RRbm"
   },
   "outputs": [],
   "source": [
    "#Separar la columna objetivo.\n",
    "X=df.drop('Survived',axis=1)\n",
    "y=df['Survived']"
   ]
  },
  {
   "cell_type": "code",
   "execution_count": 121,
   "metadata": {
    "id": "7JdsO_6TFuTN"
   },
   "outputs": [],
   "source": [
    "#TODO8 Remover columnas que usted considera irrelevantes.\n",
    "X=X.drop([\"PassengerId\",\"Name\",\"Ticket\",\"Cabin\"],axis=1)"
   ]
  },
  {
   "cell_type": "markdown",
   "metadata": {
    "id": "hjvGHlBPY0K-"
   },
   "source": [
    "Convertimos a dummies las columnas categóricas. Nos aseguramos de que las originales no permanezcan en la tabla. Se sugiere usar el parámetro drop_first = True si está trabajando con Getdummies. ¿Por qué cree que es conveniente usar este parámetro?"
   ]
  },
  {
   "cell_type": "markdown",
   "metadata": {},
   "source": [
    "El parámetro drop_first=True en el método get_dummies se utiliza para eliminar una de las categorías de una variable categórica, que actúa como la categoría de referencia o base, para evitar la multicolinealidad.\n",
    "\n",
    "Cuando se crean variables dummies para variables categóricas con n categorías, se crean n-1 variables dummies. La categoría de referencia o base se utiliza como punto de referencia para comparar las otras categorías. Por lo tanto, una categoría no necesita tener su propia variable dummy.\n",
    "\n",
    "Por ejemplo, en el caso de la variable \"Embarked\", existen tres posibles valores: \"C\", \"Q\" y \"S\". Si creamos variables dummy para estas tres categorías, se crearán dos variables dummy (\"Embarked_Q\" y \"Embarked_S\"). El valor de \"Embarked_C\" se puede inferir por la falta de valores en las otras dos variables dummy. Por lo tanto, podemos eliminar una de las variables dummy para evitar la multicolinealidad y reducir el número de características.\n",
    "\n",
    "En resumen, el parámetro drop_first=True se utiliza para crear una representación única de las categorías de una variable categórica y evitar la multicolinealidad en el conjunto de datos, lo que puede mejorar la precisión del modelo de aprendizaje automático."
   ]
  },
  {
   "cell_type": "code",
   "execution_count": 122,
   "metadata": {
    "id": "0Z6hkkziHYAh"
   },
   "outputs": [],
   "source": [
    "#TODO9 Convertir a dummies. Asegurarse de eliminar las columnas originales. Se sugiere usar el parámetro drop_first=True si se está trabajando con getdummies.\n",
    "X = pd.get_dummies(X, columns=['Sex', 'Embarked'], drop_first=True)"
   ]
  },
  {
   "cell_type": "code",
   "execution_count": 123,
   "metadata": {
    "id": "4kPUIxpLYCCC"
   },
   "outputs": [
    {
     "name": "stdout",
     "output_type": "stream",
     "text": [
      "<class 'pandas.core.frame.DataFrame'>\n",
      "Int64Index: 183 entries, 1 to 889\n",
      "Data columns (total 8 columns):\n",
      " #   Column      Non-Null Count  Dtype  \n",
      "---  ------      --------------  -----  \n",
      " 0   Pclass      183 non-null    int64  \n",
      " 1   Age         183 non-null    float64\n",
      " 2   SibSp       183 non-null    int64  \n",
      " 3   Parch       183 non-null    int64  \n",
      " 4   Fare        183 non-null    float64\n",
      " 5   Sex_male    183 non-null    uint8  \n",
      " 6   Embarked_Q  183 non-null    uint8  \n",
      " 7   Embarked_S  183 non-null    uint8  \n",
      "dtypes: float64(2), int64(3), uint8(3)\n",
      "memory usage: 9.1 KB\n"
     ]
    },
    {
     "data": {
      "text/html": [
       "<div>\n",
       "<style scoped>\n",
       "    .dataframe tbody tr th:only-of-type {\n",
       "        vertical-align: middle;\n",
       "    }\n",
       "\n",
       "    .dataframe tbody tr th {\n",
       "        vertical-align: top;\n",
       "    }\n",
       "\n",
       "    .dataframe thead th {\n",
       "        text-align: right;\n",
       "    }\n",
       "</style>\n",
       "<table border=\"1\" class=\"dataframe\">\n",
       "  <thead>\n",
       "    <tr style=\"text-align: right;\">\n",
       "      <th></th>\n",
       "      <th>Pclass</th>\n",
       "      <th>Age</th>\n",
       "      <th>SibSp</th>\n",
       "      <th>Parch</th>\n",
       "      <th>Fare</th>\n",
       "      <th>Sex_male</th>\n",
       "      <th>Embarked_Q</th>\n",
       "      <th>Embarked_S</th>\n",
       "    </tr>\n",
       "  </thead>\n",
       "  <tbody>\n",
       "    <tr>\n",
       "      <th>1</th>\n",
       "      <td>1</td>\n",
       "      <td>38.0</td>\n",
       "      <td>1</td>\n",
       "      <td>0</td>\n",
       "      <td>71.2833</td>\n",
       "      <td>0</td>\n",
       "      <td>0</td>\n",
       "      <td>0</td>\n",
       "    </tr>\n",
       "    <tr>\n",
       "      <th>3</th>\n",
       "      <td>1</td>\n",
       "      <td>35.0</td>\n",
       "      <td>1</td>\n",
       "      <td>0</td>\n",
       "      <td>53.1000</td>\n",
       "      <td>0</td>\n",
       "      <td>0</td>\n",
       "      <td>1</td>\n",
       "    </tr>\n",
       "    <tr>\n",
       "      <th>6</th>\n",
       "      <td>1</td>\n",
       "      <td>54.0</td>\n",
       "      <td>0</td>\n",
       "      <td>0</td>\n",
       "      <td>51.8625</td>\n",
       "      <td>1</td>\n",
       "      <td>0</td>\n",
       "      <td>1</td>\n",
       "    </tr>\n",
       "    <tr>\n",
       "      <th>10</th>\n",
       "      <td>3</td>\n",
       "      <td>4.0</td>\n",
       "      <td>1</td>\n",
       "      <td>1</td>\n",
       "      <td>16.7000</td>\n",
       "      <td>0</td>\n",
       "      <td>0</td>\n",
       "      <td>1</td>\n",
       "    </tr>\n",
       "    <tr>\n",
       "      <th>11</th>\n",
       "      <td>1</td>\n",
       "      <td>58.0</td>\n",
       "      <td>0</td>\n",
       "      <td>0</td>\n",
       "      <td>26.5500</td>\n",
       "      <td>0</td>\n",
       "      <td>0</td>\n",
       "      <td>1</td>\n",
       "    </tr>\n",
       "  </tbody>\n",
       "</table>\n",
       "</div>"
      ],
      "text/plain": [
       "    Pclass   Age  SibSp  Parch     Fare  Sex_male  Embarked_Q  Embarked_S\n",
       "1        1  38.0      1      0  71.2833         0           0           0\n",
       "3        1  35.0      1      0  53.1000         0           0           1\n",
       "6        1  54.0      0      0  51.8625         1           0           1\n",
       "10       3   4.0      1      1  16.7000         0           0           1\n",
       "11       1  58.0      0      0  26.5500         0           0           1"
      ]
     },
     "execution_count": 123,
     "metadata": {},
     "output_type": "execute_result"
    }
   ],
   "source": [
    "#Imprimir info de X\n",
    "X.info()\n",
    "X.head()"
   ]
  },
  {
   "cell_type": "code",
   "execution_count": 124,
   "metadata": {
    "id": "PtAfpNePYEXH"
   },
   "outputs": [],
   "source": [
    "X_train, X_test, y_train, y_test = train_test_split(X, y, random_state = 0, test_size=0.2, shuffle=True)"
   ]
  },
  {
   "cell_type": "markdown",
   "metadata": {
    "id": "KMI-RrTtZ_ew"
   },
   "source": [
    "Ahora entrenamos clasificadores de KNN con diferentes valores de k y visualizamos el cambio entre ellos."
   ]
  },
  {
   "cell_type": "code",
   "execution_count": 125,
   "metadata": {
    "id": "LkLTPdgR3wjt"
   },
   "outputs": [
    {
     "name": "stdout",
     "output_type": "stream",
     "text": [
      "[1, 2, 3, 4, 5, 6, 7, 8, 9, 10, 11, 12, 13, 14, 15, 16, 17, 18, 19, 20, 21, 22, 23, 24, 25, 26, 27, 28, 29, 30, 31, 32, 33, 34, 35, 36, 37, 38, 39, 40, 41, 42, 43, 44, 45, 46, 47, 48, 49, 50, 51, 52, 53, 54, 55, 56, 57, 58, 59, 60, 61, 62, 63, 64, 65, 66, 67, 68, 69, 70, 71, 72, 73, 74, 75, 76, 77, 78, 79, 80, 81, 82, 83, 84, 85, 86, 87, 88, 89, 90, 91, 92, 93, 94, 95, 96, 97, 98, 99, 100]\n",
      "[0.6216216216216216, 0.5405405405405406, 0.6486486486486487, 0.5945945945945946, 0.7567567567567568, 0.7027027027027027, 0.8108108108108109, 0.7297297297297297, 0.8108108108108109, 0.8108108108108109, 0.8378378378378378, 0.7567567567567568, 0.8378378378378378, 0.8108108108108109, 0.8378378378378378, 0.8108108108108109, 0.8378378378378378, 0.8378378378378378, 0.8378378378378378, 0.7567567567567568, 0.8108108108108109, 0.8108108108108109, 0.7837837837837838, 0.7567567567567568, 0.7837837837837838, 0.7837837837837838, 0.7837837837837838, 0.7837837837837838, 0.8108108108108109, 0.8108108108108109, 0.8108108108108109, 0.8108108108108109, 0.8108108108108109, 0.7837837837837838, 0.7837837837837838, 0.7837837837837838, 0.8108108108108109, 0.8108108108108109, 0.8108108108108109, 0.8108108108108109, 0.8108108108108109, 0.7837837837837838, 0.8108108108108109, 0.7837837837837838, 0.8108108108108109, 0.8108108108108109, 0.8378378378378378, 0.7837837837837838, 0.8108108108108109, 0.7567567567567568, 0.8108108108108109, 0.7567567567567568, 0.7837837837837838, 0.7837837837837838, 0.8108108108108109, 0.7837837837837838, 0.8108108108108109, 0.8108108108108109, 0.8108108108108109, 0.8378378378378378, 0.8378378378378378, 0.8108108108108109, 0.7837837837837838, 0.7837837837837838, 0.8108108108108109, 0.8108108108108109, 0.8108108108108109, 0.8108108108108109, 0.8108108108108109, 0.8108108108108109, 0.8108108108108109, 0.8108108108108109, 0.8108108108108109, 0.8108108108108109, 0.8108108108108109, 0.8108108108108109, 0.8108108108108109, 0.8108108108108109, 0.8108108108108109, 0.8108108108108109, 0.8108108108108109, 0.8108108108108109, 0.8108108108108109, 0.8108108108108109, 0.8108108108108109, 0.8108108108108109, 0.8108108108108109, 0.8108108108108109, 0.8108108108108109, 0.8108108108108109, 0.8108108108108109, 0.8108108108108109, 0.8108108108108109, 0.8108108108108109, 0.8108108108108109, 0.8108108108108109, 0.8108108108108109, 0.8108108108108109, 0.8108108108108109, 0.8108108108108109]\n",
      "0.8378378378378378  ,  10\n"
     ]
    }
   ],
   "source": [
    "#TODO10 para k entre 1 y 100, entrenar knn en los datos de entrenamiento. Calcular sus respectivos scores\n",
    "# Guardar los scores en una lista llamada \"scores\".\n",
    "scores = []\n",
    "kss = []\n",
    "\n",
    "for k in range(1, 101):\n",
    "    knn = KNeighborsClassifier(n_neighbors=k)\n",
    "    knn.fit(X_train, y_train)\n",
    "    scores.append(knn.score(X_test, y_test))\n",
    "    kss.append(k)\n",
    "    \n",
    "print(kss)\n",
    "print(scores)\n",
    "print(max(scores), \" , \", scores.index(max(scores)))"
   ]
  },
  {
   "cell_type": "code",
   "execution_count": 126,
   "metadata": {
    "id": "tgH9ocJUcFRa"
   },
   "outputs": [
    {
     "data": {
      "text/plain": [
       "Text(0, 0.5, 'Accuracy')"
      ]
     },
     "execution_count": 126,
     "metadata": {},
     "output_type": "execute_result"
    },
    {
     "data": {
      "image/png": "[encoded data removed]",
      "text/plain": [
       "<Figure size 640x480 with 1 Axes>"
      ]
     },
     "metadata": {},
     "output_type": "display_data"
    }
   ],
   "source": [
    "#Graficar scores\n",
    "plt.plot(scores)\n",
    "plt.title('KNN Classifier Accuracy')\n",
    "plt.xlabel('K')\n",
    "plt.ylabel('Accuracy')"
   ]
  },
  {
   "cell_type": "markdown",
   "metadata": {
    "id": "7PqA_ttX5OKX"
   },
   "source": [
    "**TODO11** ¿Qué se puede concluir a partir de la gráfica anterior?\n",
    "\n",
    "**TODO12:** Determinar si las siguientes afirmaciones son verdaderas o falsas. Justificar su respuesta.\n",
    "\n",
    "- El score en el test set de 1-NN siempre será menor o igual que el de 5-NN.  \n",
    "\n",
    "- El tiempo para clasificar una muestra del testset con k-NN crece con el tamaño del train set. "
   ]
  },
  {
   "cell_type": "markdown",
   "metadata": {},
   "source": [
    "A partir de la gráfica de la precisión del clasificador KNN en función del valor de k, se puede concluir que:\n",
    "\n",
    "    Para valores bajos de k (por ejemplo, k < 10), la precisión del clasificador es generalmente alta. Esto se debe a que el clasificador es muy flexible y se adapta bien a los datos de entrenamiento. Sin embargo, también puede ser propenso al sobreajuste y tener dificultades para generalizar a nuevos datos.\n",
    "    Para valores altos de k (por ejemplo, k > 50), la precisión del clasificador tiende a disminuir gradualmente. Esto se debe a que el clasificador se vuelve menos flexible y menos capaz de adaptarse a los datos de entrenamiento. Como resultado, puede ser más capaz de generalizar a nuevos datos, pero también puede perder información importante y hacer predicciones menos precisas.\n",
    "    El valor óptimo de k puede variar según los datos y el problema en cuestión. En este caso, parece que el valor óptimo de k está alrededor de k = 20-30, ya que es ahí donde se alcanza la mayor precisión en la gráfica.\n",
    "\n",
    "En general, la gráfica sugiere que el clasificador KNN puede ser un buen modelo para predecir la supervivencia en el naufragio del Titanic, siempre y cuando se seleccione el valor óptimo de k."
   ]
  },
  {
   "cell_type": "markdown",
   "metadata": {},
   "source": [
    "    El score en el test set de 1-NN siempre será menor o igual que el de 5-NN.\n",
    "\n",
    "Esta afirmación es falsa. El clasificador KNN con k = 1 es conocido como el clasificador 1-NN, y es el más flexible de todos los clasificadores KNN, ya que se ajusta muy bien a los datos de entrenamiento. Por otro lado, el clasificador KNN con k = 5 es más rígido, y por lo tanto, tiende a generalizar mejor a nuevos datos. En consecuencia, es posible que el score en el conjunto de prueba para 1-NN sea menor o igual que el score para 5-NN, pero también es posible que sea mayor. Todo depende de los datos y el problema en cuestión.\n",
    "\n",
    "    El tiempo para clasificar una muestra del testset con k-NN crece con el tamaño del train set.\n",
    "\n",
    "Esta afirmación es verdadera. El algoritmo KNN implica la comparación de cada muestra en el conjunto de prueba con todas las muestras en el conjunto de entrenamiento. Por lo tanto, cuanto mayor sea el tamaño del conjunto de entrenamiento, más tiempo tardará el algoritmo en clasificar cada muestra en el conjunto de prueba. En consecuencia, el tiempo para clasificar una muestra del conjunto de prueba con KNN aumenta a medida que el tamaño del conjunto de entrenamiento aumenta."
   ]
  },
  {
   "cell_type": "markdown",
   "metadata": {
    "id": "LVAyfDXOa7q7"
   },
   "source": [
    "## Titanic dataset usando pesos en la distancia."
   ]
  },
  {
   "cell_type": "markdown",
   "metadata": {
    "id": "r75ERgX0bGdx"
   },
   "source": [
    "A continuación usamos clasificadores de KNN dándole pesos a las distancias. \n",
    "\n",
    "**TODO13:** ¿Nota alguna diferencia con la clasificación sin pesos en las distancias? ¿Alguna hipótesis sobre el porqué?"
   ]
  },
  {
   "cell_type": "code",
   "execution_count": 127,
   "metadata": {
    "id": "XlgtFggZbc48"
   },
   "outputs": [
    {
     "name": "stdout",
     "output_type": "stream",
     "text": [
      "0.6216216216216216\n",
      "0.5945945945945946\n",
      "0.6486486486486487\n",
      "0.6756756756756757\n",
      "0.7297297297297297\n",
      "0.7027027027027027\n",
      "0.7027027027027027\n",
      "0.7297297297297297\n",
      "0.7297297297297297\n",
      "0.7567567567567568\n",
      "0.7567567567567568\n",
      "0.7837837837837838\n",
      "0.7567567567567568\n",
      "0.7837837837837838\n",
      "0.8108108108108109\n",
      "0.7837837837837838\n",
      "0.8108108108108109\n",
      "0.8108108108108109\n",
      "0.7837837837837838\n",
      "0.8108108108108109\n",
      "0.7837837837837838\n",
      "0.7837837837837838\n",
      "0.7837837837837838\n",
      "0.7837837837837838\n",
      "0.7837837837837838\n",
      "0.7567567567567568\n",
      "0.7837837837837838\n",
      "0.7837837837837838\n",
      "0.8108108108108109\n",
      "0.8108108108108109\n",
      "0.8108108108108109\n",
      "0.8108108108108109\n",
      "0.8108108108108109\n",
      "0.8108108108108109\n",
      "0.8108108108108109\n",
      "0.8108108108108109\n",
      "0.8108108108108109\n",
      "0.8108108108108109\n",
      "0.8108108108108109\n",
      "0.8108108108108109\n",
      "0.7837837837837838\n",
      "0.7837837837837838\n",
      "0.7837837837837838\n",
      "0.7837837837837838\n",
      "0.7837837837837838\n",
      "0.8108108108108109\n",
      "0.7837837837837838\n",
      "0.7837837837837838\n",
      "0.7837837837837838\n",
      "0.7837837837837838\n",
      "0.7837837837837838\n",
      "0.7837837837837838\n",
      "0.7837837837837838\n",
      "0.8108108108108109\n",
      "0.7837837837837838\n",
      "0.8108108108108109\n",
      "0.8108108108108109\n",
      "0.8108108108108109\n",
      "0.8108108108108109\n",
      "0.8108108108108109\n",
      "0.8108108108108109\n",
      "0.8108108108108109\n",
      "0.8108108108108109\n",
      "0.8108108108108109\n",
      "0.8108108108108109\n",
      "0.8108108108108109\n",
      "0.8108108108108109\n",
      "0.8108108108108109\n",
      "0.8108108108108109\n",
      "0.8108108108108109\n",
      "0.8108108108108109\n",
      "0.8108108108108109\n",
      "0.8108108108108109\n",
      "0.8108108108108109\n",
      "0.8108108108108109\n",
      "0.8108108108108109\n",
      "0.8108108108108109\n",
      "0.8108108108108109\n",
      "0.8108108108108109\n",
      "0.8108108108108109\n",
      "0.8108108108108109\n",
      "0.8108108108108109\n",
      "0.8108108108108109\n",
      "0.8108108108108109\n",
      "0.8108108108108109\n",
      "0.8108108108108109\n",
      "0.8108108108108109\n",
      "0.8108108108108109\n",
      "0.8108108108108109\n",
      "0.8108108108108109\n",
      "0.8108108108108109\n",
      "0.8108108108108109\n",
      "0.8108108108108109\n",
      "0.8108108108108109\n",
      "0.8108108108108109\n",
      "0.8108108108108109\n",
      "0.8108108108108109\n",
      "0.8108108108108109\n",
      "0.8108108108108109\n"
     ]
    }
   ],
   "source": [
    "# Weighted k-nn\n",
    "scores=[]\n",
    "for n in range(1,100):\n",
    "  knn = KNeighborsClassifier(n_neighbors=n, weights='distance')\n",
    "  knn.fit(X_train,y_train)\n",
    "  s=knn.score(X_test,y_test)\n",
    "  scores.append(s)\n",
    "  print(s)"
   ]
  },
  {
   "cell_type": "code",
   "execution_count": 128,
   "metadata": {
    "id": "EMK3f_vNb5wV"
   },
   "outputs": [
    {
     "data": {
      "text/plain": [
       "[<matplotlib.lines.Line2D at 0x1f0d223e2d0>]"
      ]
     },
     "execution_count": 128,
     "metadata": {},
     "output_type": "execute_result"
    },
    {
     "data": {
      "image/png": "[encoded data removed]",
      "text/plain": [
       "<Figure size 640x480 with 1 Axes>"
      ]
     },
     "metadata": {},
     "output_type": "display_data"
    }
   ],
   "source": [
    "#Graficar\n",
    "plt.plot(scores)"
   ]
  },
  {
   "cell_type": "markdown",
   "metadata": {},
   "source": [
    "Sí, hay una diferencia en la clasificación con pesos en las distancias en comparación con la clasificación sin pesos en las distancias. Cuando se utilizan pesos en las distancias, el algoritmo KNN da más importancia a las muestras cercanas al punto de prueba. En otras palabras, las muestras más cercanas al punto de prueba tienen un mayor peso en la clasificación que las muestras más alejadas. Esto puede dar lugar a una mejora en la precisión de la clasificación en algunos casos.\n",
    "\n",
    "La razón por la que la clasificación con pesos en las distancias puede ser más precisa que la clasificación sin pesos en las distancias es que algunos puntos de datos cercanos al punto de prueba pueden ser más importantes que otros puntos de datos más alejados. Con la clasificación sin pesos en las distancias, todos los puntos de datos tienen la misma influencia en la clasificación, lo que puede ser subóptimo en algunos casos.\n",
    "\n",
    "El código proporcionado ajusta un clasificador KNN para diferentes valores de k utilizando pesos en las distancias y almacena los puntajes de precisión en una lista llamada \"scores\". Luego, grafica la lista de puntajes de precisión en función de k."
   ]
  },
  {
   "cell_type": "code",
   "execution_count": null,
   "metadata": {},
   "outputs": [],
   "source": []
  }
 ],
 "metadata": {
  "colab": {
   "provenance": []
  },
  "kernelspec": {
   "display_name": "Python 3 (ipykernel)",
   "language": "python",
   "name": "python3"
  },
  "language_info": {
   "codemirror_mode": {
    "name": "ipython",
    "version": 3
   },
   "file_extension": ".py",
   "mimetype": "text/x-python",
   "name": "python",
   "nbconvert_exporter": "python",
   "pygments_lexer": "ipython3",
   "version": "3.11.1"
  }
 },
 "nbformat": 4,
 "nbformat_minor": 1
}
